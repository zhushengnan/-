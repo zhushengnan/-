{
 "cells": [
  {
   "cell_type": "markdown",
   "metadata": {},
   "source": [
    "# 循环"
   ]
  },
  {
   "cell_type": "markdown",
   "metadata": {
    "collapsed": true
   },
   "source": [
    "## If  "
   ]
  },
  {
   "cell_type": "markdown",
   "metadata": {},
   "source": [
    "### 条件循环"
   ]
  },
  {
   "cell_type": "markdown",
   "metadata": {},
   "source": [
    "根据Python的缩进规则，如果if语句判断是True，就把缩进的两行print语句执行了，否则，什么也不做。"
   ]
  },
  {
   "cell_type": "code",
   "execution_count": 7,
   "metadata": {},
   "outputs": [
    {
     "name": "stdout",
     "output_type": "stream",
     "text": [
      "Input your age: 20\n",
      "adult\n"
     ]
    }
   ],
   "source": [
    "age=int(input('Input your age: '))    #input()返回的数据类型是str,str不能直接划入整数比较，年龄是整数，要使用int()完成\n",
    "if age>=18:                          #注意不要少冒号：                        \n",
    "    print('adult')\n",
    "elif  age>=6:                        #elif 是else if的缩写\n",
    "    print('teenager')\n",
    "else:\n",
    "    print('kid')"
   ]
  },
  {
   "cell_type": "markdown",
   "metadata": {},
   "source": [
    "if语句的完整形式"
   ]
  },
  {
   "attachments": {
    "_auto_0": {
     "image/png": "[encoded data removed]"
    }
   },
   "cell_type": "markdown",
   "metadata": {},
   "source": [
    "![_auto_0](attachment:_auto_0)"
   ]
  },
  {
   "cell_type": "markdown",
   "metadata": {},
   "source": [
    "小明身高1.75，体重80.5kg。请根据BMI公式（体重除以身高的平方）帮小明计算他的BMI指数，并根据BMI指数：\n",
    "\n",
    "低于18.5：过轻\n",
    "18.5-25：正常\n",
    "25-28：过重\n",
    "28-32：肥胖\n",
    "高于32：严重肥胖"
   ]
  },
  {
   "cell_type": "code",
   "execution_count": 8,
   "metadata": {
    "scrolled": true
   },
   "outputs": [
    {
     "name": "stdout",
     "output_type": "stream",
     "text": [
      "请输入身高(m):1.63\n",
      "请输入体重(kg):60\n",
      "正常\n"
     ]
    }
   ],
   "source": [
    "height=float(input('请输入身高(m):'))    #体重和身高都是浮点数，用float()完成，注意函数的正确书写\n",
    "weight=float(input('请输入体重(kg):'))\n",
    "BMI=weight/(height**2)                   #平方是2个乘号**\n",
    "if BMI>=32:\n",
    "   print('严重肥胖')\n",
    "elif BMI>=28:\n",
    "   print('肥胖')\n",
    "elif BMI>=25:\n",
    "   print('过重')\n",
    "elif BMI>18.5:\n",
    "   print('正常')\n",
    "else:\n",
    "   print('过轻')"
   ]
  },
  {
   "cell_type": "code",
   "execution_count": null,
   "metadata": {
    "collapsed": true
   },
   "outputs": [],
   "source": []
  }
 ],
 "metadata": {
  "kernelspec": {
   "display_name": "Python [default]",
   "language": "python",
   "name": "python3"
  },
  "language_info": {
   "codemirror_mode": {
    "name": "ipython",
    "version": 3
   },
   "file_extension": ".py",
   "mimetype": "text/x-python",
   "name": "python",
   "nbconvert_exporter": "python",
   "pygments_lexer": "ipython3",
   "version": "3.6.3"
  }
 },
 "nbformat": 4,
 "nbformat_minor": 2
}
