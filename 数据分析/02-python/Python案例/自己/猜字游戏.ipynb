{
 "cells": [
  {
   "cell_type": "code",
   "execution_count": 3,
   "metadata": {},
   "outputs": [
    {
     "name": "stdout",
     "output_type": "stream",
     "text": [
      "猜个数字：8\n",
      "恭喜你，猜对了\n",
      "可惜没有奖励\n",
      "游戏结束，不玩了\n"
     ]
    }
   ],
   "source": [
    "temp=input(\"猜个数字：\")\n",
    "guess = int(temp)\n",
    "if guess == 8:\n",
    "   print(\"恭喜你，猜对了\")\n",
    "   print(\"可惜没有奖励\")\n",
    "else:\n",
    "   print (\"你猜错了\")\n",
    "print(\"游戏结束，不玩了\")  "
   ]
  },
  {
   "cell_type": "code",
   "execution_count": null,
   "metadata": {
    "collapsed": true
   },
   "outputs": [],
   "source": [
    "temp=input(\"猜个数字：\")\n",
    "guess = int(temp)\n",
    "if guess == 8:\n",
    "   print(\"恭喜你，猜对了\")\n",
    "   print(\"可惜没有奖励\")\n",
    "else:\n",
    "   if guess>8:\n",
    "      print('大了')\n",
    "   else:\n",
    "      print(\"小了\")\n",
    "print(\"游戏结束，不玩了\")  "
   ]
  },
  {
   "cell_type": "code",
   "execution_count": null,
   "metadata": {
    "collapsed": true
   },
   "outputs": [],
   "source": [
    "temp=input(\"猜个数字：\")\n",
    "guess = int(temp)\n",
    "while guess !=8:\n",
    "  if guess == 8:\n",
    "    print(\"恭喜你，猜对了\")\n",
    "    print(\"可惜没有奖励\")\n",
    "  else:\n",
    "    if guess > 8:\n",
    "       print('大了')\n",
    "     else:\n",
    "       print('小了')\n",
    "print(\"游戏结束，不玩了\")  "
   ]
  },
  {
   "cell_type": "code",
   "execution_count": null,
   "metadata": {
    "collapsed": true
   },
   "outputs": [],
   "source": []
  }
 ],
 "metadata": {
  "kernelspec": {
   "display_name": "Python [default]",
   "language": "python",
   "name": "python3"
  },
  "language_info": {
   "codemirror_mode": {
    "name": "ipython",
    "version": 3
   },
   "file_extension": ".py",
   "mimetype": "text/x-python",
   "name": "python",
   "nbconvert_exporter": "python",
   "pygments_lexer": "ipython3",
   "version": "3.6.3"
  }
 },
 "nbformat": 4,
 "nbformat_minor": 2
}
