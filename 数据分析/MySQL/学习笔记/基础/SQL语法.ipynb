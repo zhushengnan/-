{
 "cells": [
  {
   "cell_type": "markdown",
   "metadata": {},
   "source": [
    "SQL 语句对大小写不敏感。SELECT 等效于 select"
   ]
  },
  {
   "cell_type": "markdown",
   "metadata": {},
   "source": [
    "某些数据库系统要求在每条 SQL 命令的末端使用分号。\n",
    "分号是在数据库系统中分隔每条 SQL 语句的标准方法，这样就可以在对服务器的相同请求中执行一条以上的语句"
   ]
  },
  {
   "cell_type": "markdown",
   "metadata": {},
   "source": [
    "### SQL DML 和 DDL"
   ]
  },
  {
   "cell_type": "markdown",
   "metadata": {},
   "source": [
    "\n",
    "可以把 SQL 分为两个部分：数据操作语言 (DML) 和 数据定义语言 (DDL)。  \n",
    "SQL (结构化查询语言)是用于执行查询的语法。但是 SQL 语言也包含用于更新、插入和删除记录的语法。  \n",
    "查询和更新指令构成了 SQL 的 DML 部分：  \n",
    "SELECT - 从数据库表中获取数据  \n",
    "UPDATE - 更新数据库表中的数据  \n",
    "DELETE - 从数据库表中删除数据  \n",
    "INSERT INTO - 向数据库表中插入数据  \n",
    "SQL 的数据定义语言 (DDL) 部分使我们有能力创建或删除表格。我们也可以定义索引（键），规定表之间的链接，以及施加表间的约束。  \n",
    "SQL 中最重要的 DDL 语句:  \n",
    "CREATE DATABASE - 创建新数据库  \n",
    "ALTER DATABASE - 修改数据库  \n",
    "CREATE TABLE - 创建新表  \n",
    "ALTER TABLE - 变更（改变）数据库表  \n",
    "DROP TABLE - 删除表  \n",
    "CREATE INDEX - 创建索引（搜索键）  \n",
    "DROP INDEX - 删除索引  "
   ]
  },
  {
   "cell_type": "code",
   "execution_count": null,
   "metadata": {
    "collapsed": true
   },
   "outputs": [],
   "source": []
  }
 ],
 "metadata": {
  "kernelspec": {
   "display_name": "Python [default]",
   "language": "python",
   "name": "python3"
  },
  "language_info": {
   "codemirror_mode": {
    "name": "ipython",
    "version": 3
   },
   "file_extension": ".py",
   "mimetype": "text/x-python",
   "name": "python",
   "nbconvert_exporter": "python",
   "pygments_lexer": "ipython3",
   "version": "3.6.3"
  }
 },
 "nbformat": 4,
 "nbformat_minor": 2
}
