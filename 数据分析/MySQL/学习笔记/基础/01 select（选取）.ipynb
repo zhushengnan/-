{
 "cells": [
  {
   "cell_type": "markdown",
   "metadata": {},
   "source": [
    "# SELECT"
   ]
  },
  {
   "cell_type": "markdown",
   "metadata": {},
   "source": [
    "SELECT 语句用于从表中选取数据。\n",
    "结果被存储在一个结果表中（称为结果集）。"
   ]
  },
  {
   "cell_type": "markdown",
   "metadata": {},
   "source": [
    "#### SELECT 列名称 FROM 表名称；"
   ]
  },
  {
   "cell_type": "code",
   "execution_count": null,
   "metadata": {
    "collapsed": true
   },
   "outputs": [],
   "source": [
    "SELECT * FROM Persons  #星号（*）是选取所有列的快捷方式"
   ]
  },
  {
   "cell_type": "code",
   "execution_count": null,
   "metadata": {
    "collapsed": true
   },
   "outputs": [],
   "source": [
    "SELECT LastName,FirstName FROM Persons"
   ]
  },
  {
   "cell_type": "markdown",
   "metadata": {},
   "source": [
    "## DISTINCT（返回唯一值）"
   ]
  },
  {
   "cell_type": "markdown",
   "metadata": {},
   "source": [
    "关键词 DISTINCT 用于返回唯一不同的值\n",
    "#### SELECT DISTINCT 列名称 FROM 表名称；"
   ]
  },
  {
   "cell_type": "code",
   "execution_count": null,
   "metadata": {
    "collapsed": true
   },
   "outputs": [],
   "source": [
    "SELECT Company FROM Orders\n",
    "SELECT DISTINCT Company FROM Orders "
   ]
  },
  {
   "cell_type": "markdown",
   "metadata": {},
   "source": [
    "## WHERE 子句"
   ]
  },
  {
   "cell_type": "markdown",
   "metadata": {},
   "source": [
    "如需有条件地从表中选取数据，可将 WHERE 子句添加到 SELECT 语句"
   ]
  },
  {
   "cell_type": "markdown",
   "metadata": {},
   "source": [
    "#### SELECT 列名称 FROM 表名称 WHERE 列 运算符 值"
   ]
  },
  {
   "cell_type": "code",
   "execution_count": null,
   "metadata": {
    "collapsed": true
   },
   "outputs": [],
   "source": [
    "SELECT * FROM Persons WHERE City='Beijing'\n",
    "#SQL 使用单引号来环绕文本值（大部分数据库系统也接受双引号）。\n",
    "#如果是数值，请不要使用引号"
   ]
  },
  {
   "attachments": {
    "_auto_1": {
     "image/png": "[encoded data removed]"
    }
   },
   "cell_type": "markdown",
   "metadata": {},
   "source": [
    "![_auto_1](attachment:_auto_1)"
   ]
  },
  {
   "cell_type": "markdown",
   "metadata": {},
   "source": [
    "### and & or"
   ]
  },
  {
   "cell_type": "code",
   "execution_count": null,
   "metadata": {
    "collapsed": true
   },
   "outputs": [],
   "source": [
    "SELECT * FROM Persons WHERE FirstName='Thomas' AND LastName='Carter'                                #and且\n",
    "SELECT * FROM Persons WHERE firstname='Thomas' OR lastname='Carter'                                 #or或\n",
    "SELECT * FROM Persons WHERE (FirstName='Thomas' OR FirstName='William')AND LastName='Carter'        #and or结合使用"
   ]
  },
  {
   "cell_type": "markdown",
   "metadata": {},
   "source": [
    "### like"
   ]
  },
  {
   "cell_type": "markdown",
   "metadata": {},
   "source": [
    "LIKE 操作符用于在 WHERE 子句中搜索列中的指定模式。"
   ]
  },
  {
   "cell_type": "markdown",
   "metadata": {},
   "source": [
    "#### SELECT column_name(s)   FROM table_name  WHERE column_name LIKE pattern"
   ]
  },
  {
   "cell_type": "code",
   "execution_count": null,
   "metadata": {
    "collapsed": true
   },
   "outputs": [],
   "source": [
    "SELECT * FROM Persons   #从上面的 \"Persons\" 表中选取居住在以 \"N\" 开始的城市里的人\n",
    "WHERE City LIKE 'N%'    "
   ]
  },
  {
   "cell_type": "code",
   "execution_count": null,
   "metadata": {
    "collapsed": true
   },
   "outputs": [],
   "source": [
    "SELECT * FROM Persons     #以 \"g\" 结尾\n",
    "WHERE City LIKE '%g'"
   ]
  },
  {
   "cell_type": "code",
   "execution_count": null,
   "metadata": {
    "collapsed": true
   },
   "outputs": [],
   "source": [
    "SELECT * FROM Persons      #包含 \"lon\"\n",
    "WHERE City LIKE '%lon%'"
   ]
  },
  {
   "cell_type": "code",
   "execution_count": null,
   "metadata": {
    "collapsed": true
   },
   "outputs": [],
   "source": [
    "SELECT * FROM Persons      #不包含 \"lon\" \n",
    "WHERE City NOT LIKE '%lon%'"
   ]
  },
  {
   "cell_type": "markdown",
   "metadata": {
    "collapsed": true
   },
   "source": [
    "### in\n",
    "IN 操作符允许我们在 WHERE 子句中规定多个值。"
   ]
  },
  {
   "cell_type": "markdown",
   "metadata": {
    "collapsed": true
   },
   "source": [
    "#### SELECT column_name(s)  FROM table_name  WHERE column_name IN (value1,value2,...)"
   ]
  },
  {
   "cell_type": "code",
   "execution_count": null,
   "metadata": {
    "collapsed": true
   },
   "outputs": [],
   "source": [
    "SELECT * FROM Persons                     #选取姓氏为 Adams 和 Carter 的人\n",
    "WHERE LastName IN ('Adams','Carter')"
   ]
  },
  {
   "cell_type": "markdown",
   "metadata": {
    "collapsed": true
   },
   "source": [
    "### BETWEEN\n",
    "BETWEEN ... AND 会选取介于两个值之间的数据范围。这些值可以是数值、文本或者日期"
   ]
  },
  {
   "cell_type": "markdown",
   "metadata": {},
   "source": [
    "#### SELECT column_name(s)FROM table_nameWHERE column_name BETWEEN value1 AND value2"
   ]
  },
  {
   "cell_type": "code",
   "execution_count": null,
   "metadata": {
    "collapsed": true
   },
   "outputs": [],
   "source": [
    "SELECT * FROM Persons             #以字母顺序显示介于 \"Adams\"（包括）和 \"Carter\"（不包括）之间的人\n",
    "WHERE LastName\n",
    "BETWEEN 'Adams' AND 'Carter'\n",
    "SELECT * FROM Persons\n",
    "WHERE LastName\n",
    "NOT BETWEEN 'Adams' AND 'Carter'   #显示范围之外的人"
   ]
  },
  {
   "cell_type": "markdown",
   "metadata": {},
   "source": [
    "不同的数据库对 BETWEEN...AND 操作符的处理方式是有差异的。某些数据库会列出介于 \"Adams\" 和 \"Carter\" 之间的人，但不包括 \"Adams\" 和 \"Carter\" ；某些数据库会列出介于 \"Adams\" 和 \"Carter\" 之间并包括 \"Adams\" 和 \"Carter\" 的人；而另一些数据库会列出介于 \"Adams\" 和 \"Carter\" 之间的人，包括 \"Adams\" ，但不包括 \"Carter\" 。"
   ]
  },
  {
   "cell_type": "markdown",
   "metadata": {},
   "source": [
    "## order by"
   ]
  },
  {
   "cell_type": "markdown",
   "metadata": {},
   "source": [
    "ORDER BY 语句用于根据指定的列对结果集进行排序。  \n",
    "ORDER BY 语句默认按照升序对记录进行排序。  \n",
    "降序排序使用 DESC ，升序排序使用 ASC。      #descend & ascend"
   ]
  },
  {
   "cell_type": "code",
   "execution_count": null,
   "metadata": {
    "collapsed": true
   },
   "outputs": [],
   "source": [
    "SELECT Company, OrderNumber FROM Orders ORDER BY Company DESC, OrderNumber ASC\n",
    "#以逆字母顺序显示公司名称，并以数字顺序显示顺序号"
   ]
  },
  {
   "cell_type": "markdown",
   "metadata": {},
   "source": [
    "## TOP子句"
   ]
  },
  {
   "cell_type": "markdown",
   "metadata": {},
   "source": [
    "TOP 子句用于规定要返回的记录的数目。    \n",
    "对于拥有数千条记录的大型表来说，TOP 子句是非常有用的。  \n",
    "注释：并非所有的数据库系统都支持 TOP 子句。"
   ]
  },
  {
   "cell_type": "markdown",
   "metadata": {},
   "source": [
    "#### SELECT TOP number|percent column_name(s)        FROM table_name"
   ]
  },
  {
   "cell_type": "code",
   "execution_count": null,
   "metadata": {
    "collapsed": true
   },
   "outputs": [],
   "source": [
    "SELECT TOP 2 * FROM Persons\n",
    "SELECT TOP 50 PERCENT * FROM Persons"
   ]
  },
  {
   "cell_type": "markdown",
   "metadata": {},
   "source": [
    "#### SELECT column_name(s)  FROM table_name  LIMIT number\n",
    " MySQL 语法 "
   ]
  },
  {
   "cell_type": "code",
   "execution_count": null,
   "metadata": {
    "collapsed": true
   },
   "outputs": [],
   "source": [
    "SELECT *\n",
    "FROM Persons\n",
    "LIMIT 5"
   ]
  },
  {
   "cell_type": "markdown",
   "metadata": {},
   "source": [
    "#### SELECT column_name(s)     FROM table_name  WHERE ROWNUM <= number\n",
    " Oracle 语法"
   ]
  },
  {
   "cell_type": "code",
   "execution_count": null,
   "metadata": {
    "collapsed": true
   },
   "outputs": [],
   "source": [
    "SELECT *\n",
    "FROM Persons\n",
    "WHERE ROWNUM <= 5"
   ]
  },
  {
   "cell_type": "markdown",
   "metadata": {
    "collapsed": true
   },
   "source": [
    "## Alias（别名）\n",
    "使用 SQL，可以为列名称和表名称指定别名（Alias）。"
   ]
  },
  {
   "cell_type": "markdown",
   "metadata": {
    "collapsed": true
   },
   "source": [
    "#### SELECT column_name(s)FROM table_nameAS alias_name\n",
    "表的 SQL Alias 语法"
   ]
  },
  {
   "cell_type": "code",
   "execution_count": null,
   "metadata": {
    "collapsed": true
   },
   "outputs": [],
   "source": []
  },
  {
   "cell_type": "markdown",
   "metadata": {},
   "source": [
    "#### SELECT column_name AS alias_nameFROM table_name\n",
    "列的 SQL Alias 语法"
   ]
  },
  {
   "cell_type": "code",
   "execution_count": null,
   "metadata": {
    "collapsed": true
   },
   "outputs": [],
   "source": []
  }
 ],
 "metadata": {
  "kernelspec": {
   "display_name": "Python [default]",
   "language": "python",
   "name": "python3"
  },
  "language_info": {
   "codemirror_mode": {
    "name": "ipython",
    "version": 3
   },
   "file_extension": ".py",
   "mimetype": "text/x-python",
   "name": "python",
   "nbconvert_exporter": "python",
   "pygments_lexer": "ipython3",
   "version": "3.6.3"
  }
 },
 "nbformat": 4,
 "nbformat_minor": 2
}
