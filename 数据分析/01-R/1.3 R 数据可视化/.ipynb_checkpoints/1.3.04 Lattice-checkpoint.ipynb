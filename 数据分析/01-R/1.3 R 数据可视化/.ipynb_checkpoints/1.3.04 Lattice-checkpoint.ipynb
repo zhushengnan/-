{
 "cells": [
  {
   "cell_type": "markdown",
   "metadata": {
    "collapsed": true
   },
   "source": [
    "# Lattice绘图系统（Lattice Plotting System）"
   ]
  },
  {
   "cell_type": "markdown",
   "metadata": {
    "collapsed": true
   },
   "source": [
    "绘图=使用一次函数调用（一次成图）"
   ]
  },
  {
   "cell_type": "markdown",
   "metadata": {
    "collapsed": true
   },
   "source": [
    "特别适用于观测变量间的交互：在变量z的不同水平，变量y如何随变量x变化"
   ]
  },
  {
   "cell_type": "markdown",
   "metadata": {},
   "source": [
    "## 绘图函数"
   ]
  },
  {
   "cell_type": "markdown",
   "metadata": {
    "collapsed": true
   },
   "source": [
    "### Lattice包"
   ]
  },
  {
   "cell_type": "markdown",
   "metadata": {},
   "source": [
    "xyplot/bwplot/histogram/stripplot/dotplot/splom/levelplot/contourplot"
   ]
  },
  {
   "cell_type": "markdown",
   "metadata": {},
   "source": [
    "调用格式：xyplot(y～x丨f*g,data)   (因变量~自变量，f*g，分类变量)"
   ]
  },
  {
   "cell_type": "markdown",
   "metadata": {},
   "source": [
    "panel函数，用于控制每个面板内的绘画"
   ]
  },
  {
   "cell_type": "markdown",
   "metadata": {},
   "source": [
    "### grid包"
   ]
  },
  {
   "cell_type": "markdown",
   "metadata": {
    "collapsed": true
   },
   "source": [
    "实现了独立于base的绘图系统"
   ]
  },
  {
   "cell_type": "markdown",
   "metadata": {
    "collapsed": true
   },
   "source": [
    "lattice包是基于grid创建的；很少直接从grid包调用函数"
   ]
  },
  {
   "cell_type": "markdown",
   "metadata": {},
   "source": [
    "## Lattice与Base的重要区别："
   ]
  },
  {
   "cell_type": "markdown",
   "metadata": {},
   "source": [
    "Base绘图函数直接在图形设备上绘图"
   ]
  },
  {
   "cell_type": "markdown",
   "metadata": {},
   "source": [
    "Lattice绘图函数返回trellis类对象，打印函数真正执行了在设备上绘图。但是命令执行时，trellis类对象会被自动打印。"
   ]
  },
  {
   "cell_type": "code",
   "execution_count": null,
   "metadata": {
    "collapsed": true
   },
   "outputs": [],
   "source": []
  }
 ],
 "metadata": {
  "kernelspec": {
   "display_name": "R [conda env:Anaconda3]",
   "language": "R",
   "name": "conda-env-Anaconda3-r"
  },
  "language_info": {
   "codemirror_mode": "r",
   "file_extension": ".r",
   "mimetype": "text/x-r-source",
   "name": "R",
   "pygments_lexer": "r",
   "version": "3.4.2"
  }
 },
 "nbformat": 4,
 "nbformat_minor": 2
}
