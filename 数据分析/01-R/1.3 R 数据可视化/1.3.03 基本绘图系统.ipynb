{
 "cells": [
  {
   "cell_type": "markdown",
   "metadata": {
    "collapsed": true
   },
   "source": [
    "# 基本绘图系统  Base  Plotting System"
   ]
  },
  {
   "cell_type": "markdown",
   "metadata": {
    "collapsed": true
   },
   "source": [
    "需要事先计划，直观地实时反映绘图和分析数据的逻辑"
   ]
  },
  {
   "cell_type": "markdown",
   "metadata": {
    "collapsed": true
   },
   "source": [
    "两步=图+修饰/添加=执行一系列函数"
   ]
  },
  {
   "cell_type": "markdown",
   "metadata": {
    "collapsed": true
   },
   "source": [
    "适合于绘制2D图"
   ]
  },
  {
   "cell_type": "markdown",
   "metadata": {
    "collapsed": true
   },
   "source": [
    "## 绘图函数（graphics包）"
   ]
  },
  {
   "cell_type": "markdown",
   "metadata": {
    "collapsed": true
   },
   "source": [
    "plot/hist/boxplot/points/lines/text/title/axis  #hist柱状图，axis添加坐标轴"
   ]
  },
  {
   "cell_type": "markdown",
   "metadata": {
    "collapsed": true
   },
   "source": [
    "调用函数会启动一个图形设备并在设备上绘图（基本绘图系统+屏幕设备）"
   ]
  },
  {
   "cell_type": "markdown",
   "metadata": {
    "collapsed": true
   },
   "source": [
    "### plot（）"
   ]
  },
  {
   "cell_type": "markdown",
   "metadata": {
    "collapsed": true
   },
   "source": [
    "参数：xlab/ylab/lwd(线的宽度)/lty（线的类型）/pch（点的实心或空心）/col（图形的颜色）"
   ]
  },
  {
   "cell_type": "markdown",
   "metadata": {},
   "source": [
    "查看图的参数？par"
   ]
  },
  {
   "cell_type": "markdown",
   "metadata": {
    "collapsed": true
   },
   "source": [
    "### par()"
   ]
  },
  {
   "cell_type": "markdown",
   "metadata": {},
   "source": [
    "用于设置全局参数（作用于R中的所有plot绘图）"
   ]
  },
  {
   "cell_type": "markdown",
   "metadata": {},
   "source": [
    "bg（背景颜色）/mar（图边距）/las（标签的横竖排版）/mfrow（画板分成几行几列，并按照行填充）/mfcol"
   ]
  },
  {
   "cell_type": "code",
   "execution_count": null,
   "metadata": {
    "collapsed": true
   },
   "outputs": [],
   "source": []
  },
  {
   "cell_type": "code",
   "execution_count": null,
   "metadata": {
    "collapsed": true
   },
   "outputs": [],
   "source": []
  }
 ],
 "metadata": {
  "kernelspec": {
   "display_name": "R [conda env:Anaconda3]",
   "language": "R",
   "name": "conda-env-Anaconda3-r"
  },
  "language_info": {
   "codemirror_mode": "r",
   "file_extension": ".r",
   "mimetype": "text/x-r-source",
   "name": "R",
   "pygments_lexer": "r",
   "version": "3.4.2"
  }
 },
 "nbformat": 4,
 "nbformat_minor": 2
}
