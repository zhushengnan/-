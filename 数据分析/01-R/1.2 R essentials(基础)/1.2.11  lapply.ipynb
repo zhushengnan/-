{
 "cells": [
  {
   "cell_type": "code",
   "execution_count": null,
   "metadata": {
    "collapsed": true
   },
   "outputs": [],
   "source": [
    "Lapply"
   ]
  },
  {
   "cell_type": "code",
   "execution_count": null,
   "metadata": {
    "collapsed": true
   },
   "outputs": [],
   "source": [
    "可以循环处理列表中的每一个元素"
   ]
  },
  {
   "cell_type": "code",
   "execution_count": null,
   "metadata": {
    "collapsed": true
   },
   "outputs": [],
   "source": [
    "lapply(参数)：lapply(列表，函数/函数名，其他参数)"
   ]
  },
  {
   "cell_type": "code",
   "execution_count": null,
   "metadata": {
    "collapsed": true
   },
   "outputs": [],
   "source": [
    "总是返回一个列表"
   ]
  },
  {
   "cell_type": "code",
   "execution_count": 1,
   "metadata": {},
   "outputs": [
    {
     "name": "stdout",
     "output_type": "stream",
     "text": [
      "function (X, FUN, ...)  \n"
     ]
    }
   ],
   "source": [
    "str(lapply)  #作用：把任意的R对象以一种整洁的形式、紧凑的形式显示出来"
   ]
  },
  {
   "cell_type": "code",
   "execution_count": 2,
   "metadata": {},
   "outputs": [
    {
     "data": {
      "text/html": [
       "<dl>\n",
       "\t<dt>$a</dt>\n",
       "\t\t<dd>5.5</dd>\n",
       "\t<dt>$v</dt>\n",
       "\t\t<dd>31</dd>\n",
       "</dl>\n"
      ],
      "text/latex": [
       "\\begin{description}\n",
       "\\item[\\$a] 5.5\n",
       "\\item[\\$v] 31\n",
       "\\end{description}\n"
      ],
      "text/markdown": [
       "$a\n",
       ":   5.5\n",
       "$v\n",
       ":   31\n",
       "\n",
       "\n"
      ],
      "text/plain": [
       "$a\n",
       "[1] 5.5\n",
       "\n",
       "$v\n",
       "[1] 31\n"
      ]
     },
     "metadata": {},
     "output_type": "display_data"
    }
   ],
   "source": [
    "x<-list(a=1:10,v=c(11,21,31,41,51))\n",
    "lapply(x,mean)"
   ]
  },
  {
   "cell_type": "code",
   "execution_count": 3,
   "metadata": {},
   "outputs": [
    {
     "data": {
      "text/html": [
       "<ol>\n",
       "\t<li>0.0880015729926527</li>\n",
       "\t<li><ol class=list-inline>\n",
       "\t<li>0.500181639567018</li>\n",
       "\t<li>0.622577355476096</li>\n",
       "</ol>\n",
       "</li>\n",
       "\t<li><ol class=list-inline>\n",
       "\t<li>0.794134984957054</li>\n",
       "\t<li>0.449980705277994</li>\n",
       "\t<li>0.624982598703355</li>\n",
       "</ol>\n",
       "</li>\n",
       "\t<li><ol class=list-inline>\n",
       "\t<li>0.330097150057554</li>\n",
       "\t<li>0.658311551436782</li>\n",
       "\t<li>0.455434754258022</li>\n",
       "\t<li>0.485166530357674</li>\n",
       "</ol>\n",
       "</li>\n",
       "</ol>\n"
      ],
      "text/latex": [
       "\\begin{enumerate}\n",
       "\\item 0.0880015729926527\n",
       "\\item \\begin{enumerate*}\n",
       "\\item 0.500181639567018\n",
       "\\item 0.622577355476096\n",
       "\\end{enumerate*}\n",
       "\n",
       "\\item \\begin{enumerate*}\n",
       "\\item 0.794134984957054\n",
       "\\item 0.449980705277994\n",
       "\\item 0.624982598703355\n",
       "\\end{enumerate*}\n",
       "\n",
       "\\item \\begin{enumerate*}\n",
       "\\item 0.330097150057554\n",
       "\\item 0.658311551436782\n",
       "\\item 0.455434754258022\n",
       "\\item 0.485166530357674\n",
       "\\end{enumerate*}\n",
       "\n",
       "\\end{enumerate}\n"
      ],
      "text/markdown": [
       "1. 0.0880015729926527\n",
       "2. 1. 0.500181639567018\n",
       "2. 0.622577355476096\n",
       "\n",
       "\n",
       "\n",
       "3. 1. 0.794134984957054\n",
       "2. 0.449980705277994\n",
       "3. 0.624982598703355\n",
       "\n",
       "\n",
       "\n",
       "4. 1. 0.330097150057554\n",
       "2. 0.658311551436782\n",
       "3. 0.455434754258022\n",
       "4. 0.485166530357674\n",
       "\n",
       "\n",
       "\n",
       "\n",
       "\n"
      ],
      "text/plain": [
       "[[1]]\n",
       "[1] 0.08800157\n",
       "\n",
       "[[2]]\n",
       "[1] 0.5001816 0.6225774\n",
       "\n",
       "[[3]]\n",
       "[1] 0.7941350 0.4499807 0.6249826\n",
       "\n",
       "[[4]]\n",
       "[1] 0.3300972 0.6583116 0.4554348 0.4851665\n"
      ]
     },
     "metadata": {},
     "output_type": "display_data"
    },
    {
     "data": {
      "text/html": [
       "<ol>\n",
       "\t<li>89.4278204534203</li>\n",
       "\t<li><ol class=list-inline>\n",
       "\t<li>44.6570990141481</li>\n",
       "\t<li>77.9386056354269</li>\n",
       "</ol>\n",
       "</li>\n",
       "\t<li><ol class=list-inline>\n",
       "\t<li>25.5136958323419</li>\n",
       "\t<li>73.9730238215998</li>\n",
       "\t<li>74.7543953824788</li>\n",
       "</ol>\n",
       "</li>\n",
       "\t<li><ol class=list-inline>\n",
       "\t<li>85.4807223891839</li>\n",
       "\t<li>63.1453772075474</li>\n",
       "\t<li>83.9893293334171</li>\n",
       "\t<li>52.8173843864352</li>\n",
       "</ol>\n",
       "</li>\n",
       "</ol>\n"
      ],
      "text/latex": [
       "\\begin{enumerate}\n",
       "\\item 89.4278204534203\n",
       "\\item \\begin{enumerate*}\n",
       "\\item 44.6570990141481\n",
       "\\item 77.9386056354269\n",
       "\\end{enumerate*}\n",
       "\n",
       "\\item \\begin{enumerate*}\n",
       "\\item 25.5136958323419\n",
       "\\item 73.9730238215998\n",
       "\\item 74.7543953824788\n",
       "\\end{enumerate*}\n",
       "\n",
       "\\item \\begin{enumerate*}\n",
       "\\item 85.4807223891839\n",
       "\\item 63.1453772075474\n",
       "\\item 83.9893293334171\n",
       "\\item 52.8173843864352\n",
       "\\end{enumerate*}\n",
       "\n",
       "\\end{enumerate}\n"
      ],
      "text/markdown": [
       "1. 89.4278204534203\n",
       "2. 1. 44.6570990141481\n",
       "2. 77.9386056354269\n",
       "\n",
       "\n",
       "\n",
       "3. 1. 25.5136958323419\n",
       "2. 73.9730238215998\n",
       "3. 74.7543953824788\n",
       "\n",
       "\n",
       "\n",
       "4. 1. 85.4807223891839\n",
       "2. 63.1453772075474\n",
       "3. 83.9893293334171\n",
       "4. 52.8173843864352\n",
       "\n",
       "\n",
       "\n",
       "\n",
       "\n"
      ],
      "text/plain": [
       "[[1]]\n",
       "[1] 89.42782\n",
       "\n",
       "[[2]]\n",
       "[1] 44.65710 77.93861\n",
       "\n",
       "[[3]]\n",
       "[1] 25.51370 73.97302 74.75440\n",
       "\n",
       "[[4]]\n",
       "[1] 85.48072 63.14538 83.98933 52.81738\n"
      ]
     },
     "metadata": {},
     "output_type": "display_data"
    }
   ],
   "source": [
    "x<-1:4           \n",
    "lapply(x,runif)              #runif  从一个均匀分布里抽取若干个数出来，默认0~1抽取，可增加限制条件\n",
    "lapply(x,runif,min=0,max=100)  #lapply内部，若函数不是列表，则将强制转化为列表"
   ]
  },
  {
   "cell_type": "code",
   "execution_count": 4,
   "metadata": {},
   "outputs": [
    {
     "data": {
      "text/html": [
       "<dl>\n",
       "\t<dt>$a</dt>\n",
       "\t\t<dd><ol class=list-inline>\n",
       "\t<li>1</li>\n",
       "\t<li>3</li>\n",
       "\t<li>5</li>\n",
       "</ol>\n",
       "</dd>\n",
       "\t<dt>$b</dt>\n",
       "\t\t<dd><ol class=list-inline>\n",
       "\t<li>4</li>\n",
       "\t<li>6</li>\n",
       "</ol>\n",
       "</dd>\n",
       "</dl>\n"
      ],
      "text/latex": [
       "\\begin{description}\n",
       "\\item[\\$a] \\begin{enumerate*}\n",
       "\\item 1\n",
       "\\item 3\n",
       "\\item 5\n",
       "\\end{enumerate*}\n",
       "\n",
       "\\item[\\$b] \\begin{enumerate*}\n",
       "\\item 4\n",
       "\\item 6\n",
       "\\end{enumerate*}\n",
       "\n",
       "\\end{description}\n"
      ],
      "text/markdown": [
       "$a\n",
       ":   1. 1\n",
       "2. 3\n",
       "3. 5\n",
       "\n",
       "\n",
       "\n",
       "$b\n",
       ":   1. 4\n",
       "2. 6\n",
       "\n",
       "\n",
       "\n",
       "\n",
       "\n"
      ],
      "text/plain": [
       "$a\n",
       "[1] 1 3 5\n",
       "\n",
       "$b\n",
       "[1] 4 6\n"
      ]
     },
     "metadata": {},
     "output_type": "display_data"
    }
   ],
   "source": [
    "x<-list(a=matrix(1:6,2,3),b=matrix(4:7,2,2))\n",
    "lapply(x,function(m)m[1,]) #function(需要处理的参数) 匿名函数处理"
   ]
  },
  {
   "cell_type": "code",
   "execution_count": null,
   "metadata": {
    "collapsed": true
   },
   "outputs": [],
   "source": [
    "Sapply"
   ]
  },
  {
   "cell_type": "code",
   "execution_count": null,
   "metadata": {
    "collapsed": true
   },
   "outputs": [],
   "source": [
    "sapply 将lapply的结果进行化简"
   ]
  },
  {
   "cell_type": "code",
   "execution_count": 6,
   "metadata": {},
   "outputs": [
    {
     "data": {
      "text/html": [
       "<dl>\n",
       "\t<dt>$a</dt>\n",
       "\t\t<dd>5.5</dd>\n",
       "\t<dt>$v</dt>\n",
       "\t\t<dd>31</dd>\n",
       "</dl>\n"
      ],
      "text/latex": [
       "\\begin{description}\n",
       "\\item[\\$a] 5.5\n",
       "\\item[\\$v] 31\n",
       "\\end{description}\n"
      ],
      "text/markdown": [
       "$a\n",
       ":   5.5\n",
       "$v\n",
       ":   31\n",
       "\n",
       "\n"
      ],
      "text/plain": [
       "$a\n",
       "[1] 5.5\n",
       "\n",
       "$v\n",
       "[1] 31\n"
      ]
     },
     "metadata": {},
     "output_type": "display_data"
    },
    {
     "data": {
      "text/html": [
       "<dl class=dl-horizontal>\n",
       "\t<dt>a</dt>\n",
       "\t\t<dd>5.5</dd>\n",
       "\t<dt>v</dt>\n",
       "\t\t<dd>31</dd>\n",
       "</dl>\n"
      ],
      "text/latex": [
       "\\begin{description*}\n",
       "\\item[a] 5.5\n",
       "\\item[v] 31\n",
       "\\end{description*}\n"
      ],
      "text/markdown": [
       "a\n",
       ":   5.5v\n",
       ":   31\n",
       "\n"
      ],
      "text/plain": [
       "   a    v \n",
       " 5.5 31.0 "
      ]
     },
     "metadata": {},
     "output_type": "display_data"
    },
    {
     "data": {
      "text/html": [
       "'numeric'"
      ],
      "text/latex": [
       "'numeric'"
      ],
      "text/markdown": [
       "'numeric'"
      ],
      "text/plain": [
       "[1] \"numeric\""
      ]
     },
     "metadata": {},
     "output_type": "display_data"
    }
   ],
   "source": [
    "x<-list(a=1:10,v=c(11,21,31,41,51))\n",
    "lapply(x,mean)\n",
    "sapply(x,mean)  #将结果简化为一个向量\n",
    "class(sapply(x,mean))"
   ]
  },
  {
   "cell_type": "code",
   "execution_count": null,
   "metadata": {
    "collapsed": true
   },
   "outputs": [],
   "source": [
    " 当结果列表元素长度均为1，返回向量"
   ]
  },
  {
   "cell_type": "code",
   "execution_count": null,
   "metadata": {
    "collapsed": true
   },
   "outputs": [],
   "source": [
    "当结果列表元素长度相同且大于1，返回矩阵"
   ]
  },
  {
   "cell_type": "code",
   "execution_count": null,
   "metadata": {
    "collapsed": true
   },
   "outputs": [],
   "source": [
    "长度不同，返回列表，结果同lapply相同"
   ]
  }
 ],
 "metadata": {
  "kernelspec": {
   "display_name": "R [conda env:Anaconda3]",
   "language": "R",
   "name": "conda-env-Anaconda3-r"
  },
  "language_info": {
   "codemirror_mode": "r",
   "file_extension": ".r",
   "mimetype": "text/x-r-source",
   "name": "R",
   "pygments_lexer": "r",
   "version": "3.4.2"
  }
 },
 "nbformat": 4,
 "nbformat_minor": 2
}
