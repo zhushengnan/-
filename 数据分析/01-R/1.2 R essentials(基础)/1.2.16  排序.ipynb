{
 "cells": [
  {
   "cell_type": "code",
   "execution_count": null,
   "metadata": {
    "collapsed": true
   },
   "outputs": [],
   "source": [
    "sort：对象两进行排序；返回排好序的内容"
   ]
  },
  {
   "cell_type": "code",
   "execution_count": 1,
   "metadata": {},
   "outputs": [
    {
     "data": {
      "text/html": [
       "<ol class=list-inline>\n",
       "\t<li>6</li>\n",
       "\t<li>7</li>\n",
       "\t<li>8</li>\n",
       "\t<li>9</li>\n",
       "\t<li>10</li>\n",
       "</ol>\n"
      ],
      "text/latex": [
       "\\begin{enumerate*}\n",
       "\\item 6\n",
       "\\item 7\n",
       "\\item 8\n",
       "\\item 9\n",
       "\\item 10\n",
       "\\end{enumerate*}\n"
      ],
      "text/markdown": [
       "1. 6\n",
       "2. 7\n",
       "3. 8\n",
       "4. 9\n",
       "5. 10\n",
       "\n",
       "\n"
      ],
      "text/plain": [
       "[1]  6  7  8  9 10"
      ]
     },
     "metadata": {},
     "output_type": "display_data"
    },
    {
     "data": {
      "text/html": [
       "<ol class=list-inline>\n",
       "\t<li>10</li>\n",
       "\t<li>9</li>\n",
       "\t<li>8</li>\n",
       "\t<li>7</li>\n",
       "\t<li>6</li>\n",
       "</ol>\n"
      ],
      "text/latex": [
       "\\begin{enumerate*}\n",
       "\\item 10\n",
       "\\item 9\n",
       "\\item 8\n",
       "\\item 7\n",
       "\\item 6\n",
       "\\end{enumerate*}\n"
      ],
      "text/markdown": [
       "1. 10\n",
       "2. 9\n",
       "3. 8\n",
       "4. 7\n",
       "5. 6\n",
       "\n",
       "\n"
      ],
      "text/plain": [
       "[1] 10  9  8  7  6"
      ]
     },
     "metadata": {},
     "output_type": "display_data"
    }
   ],
   "source": [
    "x<-data.frame(v1=1:5,v2=c(10,7,9,6,8),v3=11:15,v4=c(1,1,2,2,1))\n",
    "sort(x$v2)   #x的v2列按照升序进行排列\n",
    "sort(x$v2,decreasing=TRUE)  #降序"
   ]
  },
  {
   "cell_type": "code",
   "execution_count": null,
   "metadata": {
    "collapsed": true
   },
   "outputs": [],
   "source": [
    "order:返回排好序的内容的下标，且可按多个标准进行排序"
   ]
  },
  {
   "cell_type": "code",
   "execution_count": 6,
   "metadata": {},
   "outputs": [
    {
     "data": {
      "text/html": [
       "<ol class=list-inline>\n",
       "\t<li>4</li>\n",
       "\t<li>2</li>\n",
       "\t<li>5</li>\n",
       "\t<li>3</li>\n",
       "\t<li>1</li>\n",
       "</ol>\n"
      ],
      "text/latex": [
       "\\begin{enumerate*}\n",
       "\\item 4\n",
       "\\item 2\n",
       "\\item 5\n",
       "\\item 3\n",
       "\\item 1\n",
       "\\end{enumerate*}\n"
      ],
      "text/markdown": [
       "1. 4\n",
       "2. 2\n",
       "3. 5\n",
       "4. 3\n",
       "5. 1\n",
       "\n",
       "\n"
      ],
      "text/plain": [
       "[1] 4 2 5 3 1"
      ]
     },
     "metadata": {},
     "output_type": "display_data"
    },
    {
     "data": {
      "text/html": [
       "<table>\n",
       "<thead><tr><th></th><th scope=col>v1</th><th scope=col>v2</th><th scope=col>v3</th><th scope=col>v4</th></tr></thead>\n",
       "<tbody>\n",
       "\t<tr><th scope=row>4</th><td>4 </td><td> 6</td><td>14</td><td>2 </td></tr>\n",
       "\t<tr><th scope=row>2</th><td>2 </td><td> 7</td><td>12</td><td>1 </td></tr>\n",
       "\t<tr><th scope=row>5</th><td>5 </td><td> 8</td><td>15</td><td>1 </td></tr>\n",
       "\t<tr><th scope=row>3</th><td>3 </td><td> 9</td><td>13</td><td>2 </td></tr>\n",
       "\t<tr><th scope=row>1</th><td>1 </td><td>10</td><td>11</td><td>1 </td></tr>\n",
       "</tbody>\n",
       "</table>\n"
      ],
      "text/latex": [
       "\\begin{tabular}{r|llll}\n",
       "  & v1 & v2 & v3 & v4\\\\\n",
       "\\hline\n",
       "\t4 & 4  &  6 & 14 & 2 \\\\\n",
       "\t2 & 2  &  7 & 12 & 1 \\\\\n",
       "\t5 & 5  &  8 & 15 & 1 \\\\\n",
       "\t3 & 3  &  9 & 13 & 2 \\\\\n",
       "\t1 & 1  & 10 & 11 & 1 \\\\\n",
       "\\end{tabular}\n"
      ],
      "text/markdown": [
       "\n",
       "| <!--/--> | v1 | v2 | v3 | v4 | \n",
       "|---|---|---|---|---|\n",
       "| 4 | 4  |  6 | 14 | 2  | \n",
       "| 2 | 2  |  7 | 12 | 1  | \n",
       "| 5 | 5  |  8 | 15 | 1  | \n",
       "| 3 | 3  |  9 | 13 | 2  | \n",
       "| 1 | 1  | 10 | 11 | 1  | \n",
       "\n",
       "\n"
      ],
      "text/plain": [
       "  v1 v2 v3 v4\n",
       "4 4   6 14 2 \n",
       "2 2   7 12 1 \n",
       "5 5   8 15 1 \n",
       "3 3   9 13 2 \n",
       "1 1  10 11 1 "
      ]
     },
     "metadata": {},
     "output_type": "display_data"
    },
    {
     "data": {
      "text/html": [
       "<table>\n",
       "<thead><tr><th></th><th scope=col>v1</th><th scope=col>v2</th><th scope=col>v3</th><th scope=col>v4</th></tr></thead>\n",
       "<tbody>\n",
       "\t<tr><th scope=row>3</th><td>3 </td><td> 9</td><td>13</td><td>2 </td></tr>\n",
       "\t<tr><th scope=row>4</th><td>4 </td><td> 6</td><td>14</td><td>2 </td></tr>\n",
       "\t<tr><th scope=row>1</th><td>1 </td><td>10</td><td>11</td><td>1 </td></tr>\n",
       "\t<tr><th scope=row>5</th><td>5 </td><td> 8</td><td>15</td><td>1 </td></tr>\n",
       "\t<tr><th scope=row>2</th><td>2 </td><td> 7</td><td>12</td><td>1 </td></tr>\n",
       "</tbody>\n",
       "</table>\n"
      ],
      "text/latex": [
       "\\begin{tabular}{r|llll}\n",
       "  & v1 & v2 & v3 & v4\\\\\n",
       "\\hline\n",
       "\t3 & 3  &  9 & 13 & 2 \\\\\n",
       "\t4 & 4  &  6 & 14 & 2 \\\\\n",
       "\t1 & 1  & 10 & 11 & 1 \\\\\n",
       "\t5 & 5  &  8 & 15 & 1 \\\\\n",
       "\t2 & 2  &  7 & 12 & 1 \\\\\n",
       "\\end{tabular}\n"
      ],
      "text/markdown": [
       "\n",
       "| <!--/--> | v1 | v2 | v3 | v4 | \n",
       "|---|---|---|---|---|\n",
       "| 3 | 3  |  9 | 13 | 2  | \n",
       "| 4 | 4  |  6 | 14 | 2  | \n",
       "| 1 | 1  | 10 | 11 | 1  | \n",
       "| 5 | 5  |  8 | 15 | 1  | \n",
       "| 2 | 2  |  7 | 12 | 1  | \n",
       "\n",
       "\n"
      ],
      "text/plain": [
       "  v1 v2 v3 v4\n",
       "3 3   9 13 2 \n",
       "4 4   6 14 2 \n",
       "1 1  10 11 1 \n",
       "5 5   8 15 1 \n",
       "2 2   7 12 1 "
      ]
     },
     "metadata": {},
     "output_type": "display_data"
    }
   ],
   "source": [
    "x<-data.frame(v1=1:5,v2=c(10,7,9,6,8),v3=11:15,v4=c(1,1,2,2,1))\n",
    "order(x$v2)   #返回的是下标\n",
    "x[order(x$v2),]  #x按照上面返回的下标进行排序\n",
    "x[order(x$v4,x$v2,decreasing = TRUE),] #先按v4排序，再按v2排序,且为降序"
   ]
  },
  {
   "cell_type": "code",
   "execution_count": null,
   "metadata": {
    "collapsed": true
   },
   "outputs": [],
   "source": []
  },
  {
   "cell_type": "code",
   "execution_count": null,
   "metadata": {
    "collapsed": true
   },
   "outputs": [],
   "source": []
  },
  {
   "cell_type": "code",
   "execution_count": null,
   "metadata": {
    "collapsed": true
   },
   "outputs": [],
   "source": []
  },
  {
   "cell_type": "code",
   "execution_count": null,
   "metadata": {
    "collapsed": true
   },
   "outputs": [],
   "source": []
  },
  {
   "cell_type": "code",
   "execution_count": null,
   "metadata": {
    "collapsed": true
   },
   "outputs": [],
   "source": []
  },
  {
   "cell_type": "code",
   "execution_count": null,
   "metadata": {
    "collapsed": true
   },
   "outputs": [],
   "source": []
  }
 ],
 "metadata": {
  "kernelspec": {
   "display_name": "R [conda env:Anaconda3]",
   "language": "R",
   "name": "conda-env-Anaconda3-r"
  },
  "language_info": {
   "codemirror_mode": "r",
   "file_extension": ".r",
   "mimetype": "text/x-r-source",
   "name": "R",
   "pygments_lexer": "r",
   "version": "3.4.2"
  }
 },
 "nbformat": 4,
 "nbformat_minor": 2
}
