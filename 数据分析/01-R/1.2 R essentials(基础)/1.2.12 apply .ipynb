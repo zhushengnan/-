{
 "cells": [
  {
   "cell_type": "markdown",
   "metadata": {
    "collapsed": true
   },
   "source": [
    "# apply "
   ]
  },
  {
   "cell_type": "code",
   "execution_count": null,
   "metadata": {
    "collapsed": true
   },
   "outputs": [],
   "source": [
    "沿着数组的某一维度处理数据"
   ]
  },
  {
   "cell_type": "code",
   "execution_count": null,
   "metadata": {
    "collapsed": true
   },
   "outputs": [],
   "source": [
    "与for/while循环的效率相似，但是只用一句话完成"
   ]
  },
  {
   "cell_type": "code",
   "execution_count": null,
   "metadata": {
    "collapsed": true
   },
   "outputs": [],
   "source": [
    "apply（参数）：apply（数组，维度，函数/函数名）"
   ]
  },
  {
   "cell_type": "code",
   "execution_count": 2,
   "metadata": {},
   "outputs": [
    {
     "data": {
      "text/html": [
       "<table>\n",
       "<tbody>\n",
       "\t<tr><td>1 </td><td>5 </td><td> 9</td><td>13</td></tr>\n",
       "\t<tr><td>2 </td><td>6 </td><td>10</td><td>14</td></tr>\n",
       "\t<tr><td>3 </td><td>7 </td><td>11</td><td>15</td></tr>\n",
       "\t<tr><td>4 </td><td>8 </td><td>12</td><td>16</td></tr>\n",
       "</tbody>\n",
       "</table>\n"
      ],
      "text/latex": [
       "\\begin{tabular}{llll}\n",
       "\t 1  & 5  &  9 & 13\\\\\n",
       "\t 2  & 6  & 10 & 14\\\\\n",
       "\t 3  & 7  & 11 & 15\\\\\n",
       "\t 4  & 8  & 12 & 16\\\\\n",
       "\\end{tabular}\n"
      ],
      "text/markdown": [
       "\n",
       "| 1  | 5  |  9 | 13 | \n",
       "| 2  | 6  | 10 | 14 | \n",
       "| 3  | 7  | 11 | 15 | \n",
       "| 4  | 8  | 12 | 16 | \n",
       "\n",
       "\n"
      ],
      "text/plain": [
       "     [,1] [,2] [,3] [,4]\n",
       "[1,] 1    5     9   13  \n",
       "[2,] 2    6    10   14  \n",
       "[3,] 3    7    11   15  \n",
       "[4,] 4    8    12   16  "
      ]
     },
     "metadata": {},
     "output_type": "display_data"
    },
    {
     "data": {
      "text/html": [
       "<ol class=list-inline>\n",
       "\t<li>2.5</li>\n",
       "\t<li>6.5</li>\n",
       "\t<li>10.5</li>\n",
       "\t<li>14.5</li>\n",
       "</ol>\n"
      ],
      "text/latex": [
       "\\begin{enumerate*}\n",
       "\\item 2.5\n",
       "\\item 6.5\n",
       "\\item 10.5\n",
       "\\item 14.5\n",
       "\\end{enumerate*}\n"
      ],
      "text/markdown": [
       "1. 2.5\n",
       "2. 6.5\n",
       "3. 10.5\n",
       "4. 14.5\n",
       "\n",
       "\n"
      ],
      "text/plain": [
       "[1]  2.5  6.5 10.5 14.5"
      ]
     },
     "metadata": {},
     "output_type": "display_data"
    }
   ],
   "source": [
    "x<-matrix(1:16,4,4)\n",
    "x\n",
    "apply(x,2,mean)   #第2个维度，矩阵为列"
   ]
  },
  {
   "cell_type": "code",
   "execution_count": 3,
   "metadata": {},
   "outputs": [
    {
     "data": {
      "text/html": [
       "<ol class=list-inline>\n",
       "\t<li>28</li>\n",
       "\t<li>32</li>\n",
       "\t<li>36</li>\n",
       "\t<li>40</li>\n",
       "</ol>\n"
      ],
      "text/latex": [
       "\\begin{enumerate*}\n",
       "\\item 28\n",
       "\\item 32\n",
       "\\item 36\n",
       "\\item 40\n",
       "\\end{enumerate*}\n"
      ],
      "text/markdown": [
       "1. 28\n",
       "2. 32\n",
       "3. 36\n",
       "4. 40\n",
       "\n",
       "\n"
      ],
      "text/plain": [
       "[1] 28 32 36 40"
      ]
     },
     "metadata": {},
     "output_type": "display_data"
    },
    {
     "data": {
      "text/html": [
       "<ol class=list-inline>\n",
       "\t<li>7</li>\n",
       "\t<li>8</li>\n",
       "\t<li>9</li>\n",
       "\t<li>10</li>\n",
       "</ol>\n"
      ],
      "text/latex": [
       "\\begin{enumerate*}\n",
       "\\item 7\n",
       "\\item 8\n",
       "\\item 9\n",
       "\\item 10\n",
       "\\end{enumerate*}\n"
      ],
      "text/markdown": [
       "1. 7\n",
       "2. 8\n",
       "3. 9\n",
       "4. 10\n",
       "\n",
       "\n"
      ],
      "text/plain": [
       "[1]  7  8  9 10"
      ]
     },
     "metadata": {},
     "output_type": "display_data"
    },
    {
     "data": {
      "text/html": [
       "<ol class=list-inline>\n",
       "\t<li>10</li>\n",
       "\t<li>26</li>\n",
       "\t<li>42</li>\n",
       "\t<li>58</li>\n",
       "</ol>\n"
      ],
      "text/latex": [
       "\\begin{enumerate*}\n",
       "\\item 10\n",
       "\\item 26\n",
       "\\item 42\n",
       "\\item 58\n",
       "\\end{enumerate*}\n"
      ],
      "text/markdown": [
       "1. 10\n",
       "2. 26\n",
       "3. 42\n",
       "4. 58\n",
       "\n",
       "\n"
      ],
      "text/plain": [
       "[1] 10 26 42 58"
      ]
     },
     "metadata": {},
     "output_type": "display_data"
    },
    {
     "data": {
      "text/html": [
       "<ol class=list-inline>\n",
       "\t<li>2.5</li>\n",
       "\t<li>6.5</li>\n",
       "\t<li>10.5</li>\n",
       "\t<li>14.5</li>\n",
       "</ol>\n"
      ],
      "text/latex": [
       "\\begin{enumerate*}\n",
       "\\item 2.5\n",
       "\\item 6.5\n",
       "\\item 10.5\n",
       "\\item 14.5\n",
       "\\end{enumerate*}\n"
      ],
      "text/markdown": [
       "1. 2.5\n",
       "2. 6.5\n",
       "3. 10.5\n",
       "4. 14.5\n",
       "\n",
       "\n"
      ],
      "text/plain": [
       "[1]  2.5  6.5 10.5 14.5"
      ]
     },
     "metadata": {},
     "output_type": "display_data"
    }
   ],
   "source": [
    "rowSums(x)    #矩阵按照行或列进行求平均、和的操作\n",
    "rowMeans(x)\n",
    "colSums(x)\n",
    "colMeans(x)"
   ]
  },
  {
   "cell_type": "code",
   "execution_count": 6,
   "metadata": {},
   "outputs": [
    {
     "data": {
      "text/html": [
       "<table>\n",
       "<tbody>\n",
       "\t<tr><td>-0.221493284</td><td> 1.95014355 </td><td>-0.85102383 </td><td> 0.1518161  </td><td> 0.20687415 </td><td>-1.3125066  </td><td>-0.5859563  </td><td>-0.37529108 </td><td>-0.889803322</td><td>-1.6018788  </td></tr>\n",
       "\t<tr><td>-1.680995288</td><td> 2.33817327 </td><td> 1.86743535 </td><td>-0.5440338  </td><td> 0.31141240 </td><td> 0.4529230  </td><td>-1.3605132  </td><td>-0.07483011 </td><td>-0.799117838</td><td> 1.2595627  </td></tr>\n",
       "\t<tr><td>-0.638269754</td><td>-0.70283026 </td><td> 1.53397977 </td><td> 2.1960150  </td><td> 0.24948950 </td><td> 0.6248302  </td><td>-1.2627399  </td><td> 0.66805641 </td><td> 0.267191040</td><td>-0.6563609  </td></tr>\n",
       "\t<tr><td> 1.378308878</td><td>-0.81655211 </td><td>-0.28103805 </td><td>-1.2772006  </td><td>-1.02560563 </td><td>-0.4218592  </td><td> 0.8465096  </td><td> 0.66227316 </td><td>-0.453385851</td><td>-0.1863275  </td></tr>\n",
       "\t<tr><td> 0.097045926</td><td>-0.69281773 </td><td>-0.41731383 </td><td>-0.2561151  </td><td> 0.07537227 </td><td> 1.1306721  </td><td> 1.8803800  </td><td> 0.08259160 </td><td> 1.549675981</td><td>-0.8800522  </td></tr>\n",
       "\t<tr><td>-0.805564318</td><td> 0.84872677 </td><td>-0.64587446 </td><td>-0.3772694  </td><td> 0.37596502 </td><td>-0.1338468  </td><td> 0.3021746  </td><td>-1.12677292 </td><td>-2.495494384</td><td>-0.7596113  </td></tr>\n",
       "\t<tr><td> 0.004258879</td><td> 1.29830905 </td><td> 0.38938152 </td><td> 0.3981804  </td><td>-0.36244451 </td><td>-0.8439325  </td><td> 1.2126849  </td><td> 0.82200926 </td><td> 0.302565493</td><td>-1.2312136  </td></tr>\n",
       "\t<tr><td> 1.117585957</td><td> 0.36769968 </td><td> 1.09762409 </td><td>-0.5933102  </td><td>-0.31013005 </td><td> 0.4729302  </td><td>-1.8285898  </td><td>-0.09868246 </td><td>-0.004026514</td><td> 0.4619795  </td></tr>\n",
       "\t<tr><td> 0.348814430</td><td> 0.05887716 </td><td>-2.66802521 </td><td> 0.1707038  </td><td> 1.20811901 </td><td> 0.4042045  </td><td>-0.9589404  </td><td> 0.11495431 </td><td>-0.297968044</td><td>-0.4360002  </td></tr>\n",
       "\t<tr><td> 0.994421532</td><td>-0.35390259 </td><td>-0.08072233 </td><td>-1.1352208  </td><td> 0.35212828 </td><td> 0.6973600  </td><td>-0.3096737  </td><td> 0.27248859 </td><td>-1.449855920</td><td> 0.6701510  </td></tr>\n",
       "</tbody>\n",
       "</table>\n"
      ],
      "text/latex": [
       "\\begin{tabular}{llllllllll}\n",
       "\t -0.221493284 &  1.95014355  & -0.85102383  &  0.1518161   &  0.20687415  & -1.3125066   & -0.5859563   & -0.37529108  & -0.889803322 & -1.6018788  \\\\\n",
       "\t -1.680995288 &  2.33817327  &  1.86743535  & -0.5440338   &  0.31141240  &  0.4529230   & -1.3605132   & -0.07483011  & -0.799117838 &  1.2595627  \\\\\n",
       "\t -0.638269754 & -0.70283026  &  1.53397977  &  2.1960150   &  0.24948950  &  0.6248302   & -1.2627399   &  0.66805641  &  0.267191040 & -0.6563609  \\\\\n",
       "\t  1.378308878 & -0.81655211  & -0.28103805  & -1.2772006   & -1.02560563  & -0.4218592   &  0.8465096   &  0.66227316  & -0.453385851 & -0.1863275  \\\\\n",
       "\t  0.097045926 & -0.69281773  & -0.41731383  & -0.2561151   &  0.07537227  &  1.1306721   &  1.8803800   &  0.08259160  &  1.549675981 & -0.8800522  \\\\\n",
       "\t -0.805564318 &  0.84872677  & -0.64587446  & -0.3772694   &  0.37596502  & -0.1338468   &  0.3021746   & -1.12677292  & -2.495494384 & -0.7596113  \\\\\n",
       "\t  0.004258879 &  1.29830905  &  0.38938152  &  0.3981804   & -0.36244451  & -0.8439325   &  1.2126849   &  0.82200926  &  0.302565493 & -1.2312136  \\\\\n",
       "\t  1.117585957 &  0.36769968  &  1.09762409  & -0.5933102   & -0.31013005  &  0.4729302   & -1.8285898   & -0.09868246  & -0.004026514 &  0.4619795  \\\\\n",
       "\t  0.348814430 &  0.05887716  & -2.66802521  &  0.1707038   &  1.20811901  &  0.4042045   & -0.9589404   &  0.11495431  & -0.297968044 & -0.4360002  \\\\\n",
       "\t  0.994421532 & -0.35390259  & -0.08072233  & -1.1352208   &  0.35212828  &  0.6973600   & -0.3096737   &  0.27248859  & -1.449855920 &  0.6701510  \\\\\n",
       "\\end{tabular}\n"
      ],
      "text/markdown": [
       "\n",
       "| -0.221493284 |  1.95014355  | -0.85102383  |  0.1518161   |  0.20687415  | -1.3125066   | -0.5859563   | -0.37529108  | -0.889803322 | -1.6018788   | \n",
       "| -1.680995288 |  2.33817327  |  1.86743535  | -0.5440338   |  0.31141240  |  0.4529230   | -1.3605132   | -0.07483011  | -0.799117838 |  1.2595627   | \n",
       "| -0.638269754 | -0.70283026  |  1.53397977  |  2.1960150   |  0.24948950  |  0.6248302   | -1.2627399   |  0.66805641  |  0.267191040 | -0.6563609   | \n",
       "|  1.378308878 | -0.81655211  | -0.28103805  | -1.2772006   | -1.02560563  | -0.4218592   |  0.8465096   |  0.66227316  | -0.453385851 | -0.1863275   | \n",
       "|  0.097045926 | -0.69281773  | -0.41731383  | -0.2561151   |  0.07537227  |  1.1306721   |  1.8803800   |  0.08259160  |  1.549675981 | -0.8800522   | \n",
       "| -0.805564318 |  0.84872677  | -0.64587446  | -0.3772694   |  0.37596502  | -0.1338468   |  0.3021746   | -1.12677292  | -2.495494384 | -0.7596113   | \n",
       "|  0.004258879 |  1.29830905  |  0.38938152  |  0.3981804   | -0.36244451  | -0.8439325   |  1.2126849   |  0.82200926  |  0.302565493 | -1.2312136   | \n",
       "|  1.117585957 |  0.36769968  |  1.09762409  | -0.5933102   | -0.31013005  |  0.4729302   | -1.8285898   | -0.09868246  | -0.004026514 |  0.4619795   | \n",
       "|  0.348814430 |  0.05887716  | -2.66802521  |  0.1707038   |  1.20811901  |  0.4042045   | -0.9589404   |  0.11495431  | -0.297968044 | -0.4360002   | \n",
       "|  0.994421532 | -0.35390259  | -0.08072233  | -1.1352208   |  0.35212828  |  0.6973600   | -0.3096737   |  0.27248859  | -1.449855920 |  0.6701510   | \n",
       "\n",
       "\n"
      ],
      "text/plain": [
       "      [,1]         [,2]        [,3]        [,4]       [,5]        [,6]      \n",
       " [1,] -0.221493284  1.95014355 -0.85102383  0.1518161  0.20687415 -1.3125066\n",
       " [2,] -1.680995288  2.33817327  1.86743535 -0.5440338  0.31141240  0.4529230\n",
       " [3,] -0.638269754 -0.70283026  1.53397977  2.1960150  0.24948950  0.6248302\n",
       " [4,]  1.378308878 -0.81655211 -0.28103805 -1.2772006 -1.02560563 -0.4218592\n",
       " [5,]  0.097045926 -0.69281773 -0.41731383 -0.2561151  0.07537227  1.1306721\n",
       " [6,] -0.805564318  0.84872677 -0.64587446 -0.3772694  0.37596502 -0.1338468\n",
       " [7,]  0.004258879  1.29830905  0.38938152  0.3981804 -0.36244451 -0.8439325\n",
       " [8,]  1.117585957  0.36769968  1.09762409 -0.5933102 -0.31013005  0.4729302\n",
       " [9,]  0.348814430  0.05887716 -2.66802521  0.1707038  1.20811901  0.4042045\n",
       "[10,]  0.994421532 -0.35390259 -0.08072233 -1.1352208  0.35212828  0.6973600\n",
       "      [,7]       [,8]        [,9]         [,10]     \n",
       " [1,] -0.5859563 -0.37529108 -0.889803322 -1.6018788\n",
       " [2,] -1.3605132 -0.07483011 -0.799117838  1.2595627\n",
       " [3,] -1.2627399  0.66805641  0.267191040 -0.6563609\n",
       " [4,]  0.8465096  0.66227316 -0.453385851 -0.1863275\n",
       " [5,]  1.8803800  0.08259160  1.549675981 -0.8800522\n",
       " [6,]  0.3021746 -1.12677292 -2.495494384 -0.7596113\n",
       " [7,]  1.2126849  0.82200926  0.302565493 -1.2312136\n",
       " [8,] -1.8285898 -0.09868246 -0.004026514  0.4619795\n",
       " [9,] -0.9589404  0.11495431 -0.297968044 -0.4360002\n",
       "[10,] -0.3096737  0.27248859 -1.449855920  0.6701510"
      ]
     },
     "metadata": {},
     "output_type": "display_data"
    },
    {
     "data": {
      "text/html": [
       "<table>\n",
       "<tbody>\n",
       "\t<tr><th scope=row>25%</th><td>-0.88010845</td><td>-0.7353468 </td><td>-0.6518381 </td><td>-0.7257605 </td><td>-0.3770141 </td><td>-0.7940761 </td><td>-0.2707687 </td><td>-0.2572681 </td><td>-0.4014922 </td><td>-0.3428454 </td></tr>\n",
       "\t<tr><th scope=row>75%</th><td> 0.05848872</td><td> 1.0579028 </td><td> 0.6572498 </td><td> 0.4501230 </td><td> 0.8722656 </td><td> 0.1931693 </td><td> 0.7160520 </td><td> 0.4701925 </td><td> 0.3042868 </td><td> 0.5906453 </td></tr>\n",
       "</tbody>\n",
       "</table>\n"
      ],
      "text/latex": [
       "\\begin{tabular}{r|llllllllll}\n",
       "\t25\\% & -0.88010845 & -0.7353468  & -0.6518381  & -0.7257605  & -0.3770141  & -0.7940761  & -0.2707687  & -0.2572681  & -0.4014922  & -0.3428454 \\\\\n",
       "\t75\\% &  0.05848872 &  1.0579028  &  0.6572498  &  0.4501230  &  0.8722656  &  0.1931693  &  0.7160520  &  0.4701925  &  0.3042868  &  0.5906453 \\\\\n",
       "\\end{tabular}\n"
      ],
      "text/markdown": [
       "\n",
       "| 25% | -0.88010845 | -0.7353468  | -0.6518381  | -0.7257605  | -0.3770141  | -0.7940761  | -0.2707687  | -0.2572681  | -0.4014922  | -0.3428454  | \n",
       "| 75% |  0.05848872 |  1.0579028  |  0.6572498  |  0.4501230  |  0.8722656  |  0.1931693  |  0.7160520  |  0.4701925  |  0.3042868  |  0.5906453  | \n",
       "\n",
       "\n"
      ],
      "text/plain": [
       "    [,1]        [,2]       [,3]       [,4]       [,5]       [,6]      \n",
       "25% -0.88010845 -0.7353468 -0.6518381 -0.7257605 -0.3770141 -0.7940761\n",
       "75%  0.05848872  1.0579028  0.6572498  0.4501230  0.8722656  0.1931693\n",
       "    [,7]       [,8]       [,9]       [,10]     \n",
       "25% -0.2707687 -0.2572681 -0.4014922 -0.3428454\n",
       "75%  0.7160520  0.4701925  0.3042868  0.5906453"
      ]
     },
     "metadata": {},
     "output_type": "display_data"
    }
   ],
   "source": [
    "x<-matrix(rnorm(100),10,10)   #rnorm(a)随机从正态分布中抽取a个数据\n",
    "x\n",
    "apply(x,1,quantile,probs=c(0.25,0.75))#quantile,求数据的百分位点。probs对quantile进行限定"
   ]
  },
  {
   "cell_type": "code",
   "execution_count": null,
   "metadata": {
    "collapsed": true
   },
   "outputs": [],
   "source": [
    "y<-array(rnorm(2*3*4),c(2,3,4))    #维度为4，每个维度里是两行三列\n",
    "y"
   ]
  },
  {
   "attachments": {
    "_auto_0": {
     "image/png": "[encoded data removed]"
    }
   },
   "cell_type": "markdown",
   "metadata": {},
   "source": [
    "![_auto_0](attachment:_auto_0)"
   ]
  },
  {
   "cell_type": "code",
   "execution_count": null,
   "metadata": {
    "collapsed": true
   },
   "outputs": [],
   "source": [
    "apply(y,c(1,2),mean)  # 在第一、二维组成的平面中，延第三维进行求平均"
   ]
  },
  {
   "attachments": {
    "_auto_0": {
     "image/png": "[encoded data removed]"
    }
   },
   "cell_type": "markdown",
   "metadata": {
    "collapsed": true
   },
   "source": [
    "![_auto_0](attachment:_auto_0)"
   ]
  },
  {
   "cell_type": "code",
   "execution_count": null,
   "metadata": {
    "collapsed": true
   },
   "outputs": [],
   "source": []
  },
  {
   "cell_type": "code",
   "execution_count": null,
   "metadata": {
    "collapsed": true
   },
   "outputs": [],
   "source": []
  },
  {
   "cell_type": "code",
   "execution_count": null,
   "metadata": {
    "collapsed": true
   },
   "outputs": [],
   "source": []
  }
 ],
 "metadata": {
  "kernelspec": {
   "display_name": "R [conda env:Anaconda3]",
   "language": "R",
   "name": "conda-env-Anaconda3-r"
  },
  "language_info": {
   "codemirror_mode": "r",
   "file_extension": ".r",
   "mimetype": "text/x-r-source",
   "name": "R",
   "pygments_lexer": "r",
   "version": "3.4.2"
  }
 },
 "nbformat": 4,
 "nbformat_minor": 2
}
