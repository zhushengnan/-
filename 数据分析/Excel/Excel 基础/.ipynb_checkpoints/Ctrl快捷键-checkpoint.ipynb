{
 "cells": [
  {
   "cell_type": "markdown",
   "metadata": {},
   "source": [
    "# Ctrl"
   ]
  },
  {
   "cell_type": "markdown",
   "metadata": {},
   "source": [
    "1、快速复制表格\n",
    "\n",
    "复制 - 粘贴，99.9%的人都是这样复制一个表。其实按Ctrl同时用鼠标拖动，比复制更快。按Ctrl+Alt不松，还可以把表格拖动到另一个工作表中。  \n",
    "（鼠标状态是小箭头+，非十字光标）\n",
    "\n",
    "\n",
    "\n",
    "2、快速复制工作表\n",
    "\n",
    "按Ctrl不松，拖动工作表标签，可以快速复制出一个完全相同的工作表。\n",
    "\n",
    "\n",
    "\n",
    "3、快速复制序号\n",
    "\n",
    "复制数字时，按Ctrl不松可以让数字递增\n",
    "复制字符串+数字时，按Ctrl不松可以让数字不递增  \n",
    "（不按Ctrl,复制数字时不递增，复制字符串+数字时递增）\n",
    "\n",
    "\n",
    "\n",
    "4、快速调整表格显示比例\n",
    "\n",
    "按Ctrl不松，可以用滚轮快速调整excel表格的显示比例(网页浏览也通用)\n",
    "\n",
    "\n",
    "\n",
    "5、在原位置快速调整图形大小\n",
    "\n",
    "调整图片大小如果直接拖拉，无法在原地缩小或放大图形。而按Ctrl则可以。\n",
    "\n"
   ]
  },
  {
   "cell_type": "code",
   "execution_count": null,
   "metadata": {
    "collapsed": true
   },
   "outputs": [],
   "source": []
  }
 ],
 "metadata": {
  "kernelspec": {
   "display_name": "Python [default]",
   "language": "python",
   "name": "python3"
  },
  "language_info": {
   "codemirror_mode": {
    "name": "ipython",
    "version": 3
   },
   "file_extension": ".py",
   "mimetype": "text/x-python",
   "name": "python",
   "nbconvert_exporter": "python",
   "pygments_lexer": "ipython3",
   "version": "3.6.3"
  }
 },
 "nbformat": 4,
 "nbformat_minor": 2
}
