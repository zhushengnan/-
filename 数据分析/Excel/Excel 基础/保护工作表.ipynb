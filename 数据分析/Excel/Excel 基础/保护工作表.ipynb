{
 "cells": [
  {
   "cell_type": "markdown",
   "metadata": {},
   "source": [
    "### 单元格锁定\n",
    "选取一列要禁止插入或删除的空行区\n",
    "在编辑栏中输入=\"\"然后按Ctrl+Shift+Enter三键结束\n",
    "输入后，公式两边会自动添加大括号{}"
   ]
  },
  {
   "cell_type": "markdown",
   "metadata": {},
   "source": [
    "取消：\n",
    "选取设置公式的整列或公式区域，按delete"
   ]
  },
  {
   "cell_type": "code",
   "execution_count": null,
   "metadata": {
    "collapsed": true
   },
   "outputs": [],
   "source": []
  }
 ],
 "metadata": {
  "kernelspec": {
   "display_name": "Python [default]",
   "language": "python",
   "name": "python3"
  },
  "language_info": {
   "codemirror_mode": {
    "name": "ipython",
    "version": 3
   },
   "file_extension": ".py",
   "mimetype": "text/x-python",
   "name": "python",
   "nbconvert_exporter": "python",
   "pygments_lexer": "ipython3",
   "version": "3.6.3"
  }
 },
 "nbformat": 4,
 "nbformat_minor": 2
}
