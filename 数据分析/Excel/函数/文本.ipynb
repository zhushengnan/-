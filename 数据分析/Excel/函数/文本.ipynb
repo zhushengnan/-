{
 "cells": [
  {
   "cell_type": "markdown",
   "metadata": {},
   "source": [
    "## TEXT\n",
    "根据指定的数值格式将相应的数字转换为文本形式。  \n",
    "TEXT(value,format_text)"
   ]
  },
  {
   "cell_type": "markdown",
   "metadata": {
    "collapsed": true
   },
   "source": [
    "## VALUE\n",
    "将一个代表数值的文本型字符串转换为数值型。  \n",
    "VALUE(text)"
   ]
  },
  {
   "cell_type": "markdown",
   "metadata": {},
   "source": [
    "## CONCATENATE(&)\n",
    "将多个字符文本或单元格中的数据连接在一起，显示在一个单元格中  \n",
    "CONCATENATE(Text1，Text……)  \n",
    "如果参数不是引用的单元格，且为文本格式的，请给参数加上英文状态下的双引号  \n",
    "=CONCATENATE(A14,\"@\",B14,\".com\")"
   ]
  },
  {
   "cell_type": "markdown",
   "metadata": {},
   "source": [
    "## LEFT\n",
    "从一个文本字符串的第一个字符开始，截取指定数目的字符。  \n",
    "LEFT(text,num_chars)  \n",
    "text代表要截字符的字符串;num_chars代表给定的截取数目。"
   ]
  },
  {
   "cell_type": "markdown",
   "metadata": {},
   "source": [
    "## RIGHT\n",
    "从一个文本字符串的最后一个字符开始，截取指定数目的字符。\n",
    "RIGHT(text,num_chars)"
   ]
  },
  {
   "cell_type": "markdown",
   "metadata": {},
   "source": [
    "## MID\n",
    "从一个文本字符串的指定位置开始，截取指定数目的字符。  \n",
    "MID(text,start_num,num_chars)"
   ]
  },
  {
   "cell_type": "markdown",
   "metadata": {},
   "source": [
    "## LEN\n",
    "统计文本字符串中字符数目。\n",
    "LEN(text) \n",
    "统计时，无论中全角字符，还是半角字符，每个字符均计为“1”"
   ]
  },
  {
   "cell_type": "markdown",
   "metadata": {},
   "source": [
    "## LENB\n",
    "同len\n",
    "在统计时半角字符计为“1”，全角字符计为“2”"
   ]
  },
  {
   "cell_type": "markdown",
   "metadata": {},
   "source": [
    "分离字母和汉字\n",
    "\n",
    "汉字在前\n",
    "=LEFT(单元格,LENB(单元格)-LEN(单元格))\n",
    "汉字在后\n",
    "=Right(单元格,LENB(单元格)-LEN(单元格))\n",
    "\n",
    "示例：\n",
    "=LEFT(A2,LENB(A2)-LEN(A2))\n"
   ]
  },
  {
   "cell_type": "code",
   "execution_count": null,
   "metadata": {
    "collapsed": true
   },
   "outputs": [],
   "source": []
  }
 ],
 "metadata": {
  "kernelspec": {
   "display_name": "Python [default]",
   "language": "python",
   "name": "python3"
  },
  "language_info": {
   "codemirror_mode": {
    "name": "ipython",
    "version": 3
   },
   "file_extension": ".py",
   "mimetype": "text/x-python",
   "name": "python",
   "nbconvert_exporter": "python",
   "pygments_lexer": "ipython3",
   "version": "3.6.3"
  }
 },
 "nbformat": 4,
 "nbformat_minor": 2
}
