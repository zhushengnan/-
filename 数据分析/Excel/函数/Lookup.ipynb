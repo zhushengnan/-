{
 "cells": [
  {
   "cell_type": "markdown",
   "metadata": {},
   "source": [
    "3、多条件查找\n",
    "\n",
    "Lookup(1,1/((条件1*条件2*条件3...)),返回值区域）\n",
    "\n",
    "示例：如下图所示要求，同时根据姓名和工号查找职位\n",
    "=LOOKUP(1,0/(B2:B6=B9)*(A2:A6=C9),E2:E6)\n",
    "\n",
    "\n",
    "4、提取任意位置字符串的数字\n",
    "\n",
    "=LOOKUP(9^9,MID(数字,MATCH(1,MID(数字,ROW(1:99),1)^0,0),ROW(1:99))*1)}\n",
    "\n",
    "(注：数组公式，需要按ctrl+shift+enter三键输入)\n",
    "\n",
    "示例：如下图所示，提示A列中字符串中的数字\n",
    "=LOOKUP(9^9,MID(A2,MATCH(1,MID(A1,ROW(1:99),1)^0,0),ROW(1:9))*1)\n",
    "注：如果字符串超过100位，就把99调大\n"
   ]
  },
  {
   "cell_type": "code",
   "execution_count": null,
   "metadata": {
    "collapsed": true
   },
   "outputs": [],
   "source": []
  }
 ],
 "metadata": {
  "kernelspec": {
   "display_name": "Python [default]",
   "language": "python",
   "name": "python3"
  },
  "language_info": {
   "codemirror_mode": {
    "name": "ipython",
    "version": 3
   },
   "file_extension": ".py",
   "mimetype": "text/x-python",
   "name": "python",
   "nbconvert_exporter": "python",
   "pygments_lexer": "ipython3",
   "version": "3.6.3"
  }
 },
 "nbformat": 4,
 "nbformat_minor": 2
}
