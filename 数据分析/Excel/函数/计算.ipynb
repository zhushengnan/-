{
 "cells": [
  {
   "cell_type": "markdown",
   "metadata": {
    "collapsed": true
   },
   "source": [
    "## MAX\n",
    "求出一组数中的最大值。  \n",
    "MAX(number1,number2……)"
   ]
  },
  {
   "cell_type": "markdown",
   "metadata": {
    "collapsed": true
   },
   "source": [
    "## MIN\n",
    "求出一组数中的最小值。  \n",
    "MIN(number1,number2……)"
   ]
  },
  {
   "cell_type": "markdown",
   "metadata": {},
   "source": [
    "## MOD\n",
    "求出两数相除的余数。  \n",
    "MOD(number,divisor)number代表被除数;divisor代表除数"
   ]
  },
  {
   "cell_type": "markdown",
   "metadata": {},
   "source": [
    "## MODE\n",
    "返回一组数据或数据区域中出现频率最高或重复出现的数值(众数)"
   ]
  },
  {
   "cell_type": "code",
   "execution_count": null,
   "metadata": {
    "collapsed": true
   },
   "outputs": [],
   "source": [
    "=MODE(A2:C11)    #求取众数，返回第一个众数\n",
    "MODE.SNGL()和MODE.MULT()函数替代了早期的MODE()函数"
   ]
  },
  {
   "cell_type": "markdown",
   "metadata": {},
   "source": [
    "这3个函数的语法结构都相同，分别为：MODE.SNGL(number1，[number2]...)，MODE.MULT(number1,[number2]…)，MODE(number1,[number2]…)"
   ]
  },
  {
   "cell_type": "markdown",
   "metadata": {},
   "source": [
    "### MODE.MULT"
   ]
  },
  {
   "cell_type": "code",
   "execution_count": null,
   "metadata": {
    "collapsed": true
   },
   "outputs": [],
   "source": [
    "=INDEX(MODE.MULT(A$2:C$11),ROW(A1))    #多个众数,注意引用\n",
    "INDEX（数组,ROW(A1)）：由于多个数无法同时显示在同一个单元格中，所以需要用INDEX函数+ROW函数逐个从数组中提出数字。"
   ]
  },
  {
   "cell_type": "markdown",
   "metadata": {},
   "source": [
    "### MODE.SNGL"
   ]
  },
  {
   "cell_type": "markdown",
   "metadata": {},
   "source": [
    "与MODE用法一致"
   ]
  },
  {
   "cell_type": "markdown",
   "metadata": {
    "collapsed": true
   },
   "source": [
    "## AVERAGE\n",
    "求出所有参数的算术平均值。  \n",
    "AVERAGE(number1,number2,……)  \n",
    "如果引用区域中包含“0”值单元格，则计算在内;如果引用区域中包含空白或字符单元格，则不计算在内"
   ]
  },
  {
   "cell_type": "markdown",
   "metadata": {
    "collapsed": true
   },
   "source": [
    "## AVERAGEIF"
   ]
  },
  {
   "cell_type": "markdown",
   "metadata": {},
   "source": [
    "## ABS\n",
    "求出相应数字的绝对值  \n",
    "ABS(number)  \n",
    "如果number参数不是数值，而是一些字符(如A等)，则B返回错误值“#VALUE!”"
   ]
  },
  {
   "cell_type": "markdown",
   "metadata": {
    "collapsed": true
   },
   "source": [
    "## SUM/SUMIF/SUMIFS/SUMPRODUCT"
   ]
  },
  {
   "cell_type": "markdown",
   "metadata": {
    "collapsed": true
   },
   "source": [
    "## COUNT/COUNTIF/COUNTIFS/DCOUNT"
   ]
  },
  {
   "cell_type": "markdown",
   "metadata": {
    "collapsed": true
   },
   "source": [
    "## RANK\n",
    "返回某一数值在一列数值中的相对于其他数值的排位。  \n",
    "RANK(Number,ref,order)  \n",
    "Number代表需要排序的数值;ref代表排序数值所处的单元格区域;order代表排序方式参数(如果为“0”或者忽略，则按降序排名，即数值越大，排名结果数值越小;如果为非“0”值，则按升序排名，即数值越大，排名结果数值越大;)。"
   ]
  },
  {
   "cell_type": "markdown",
   "metadata": {
    "collapsed": true
   },
   "source": [
    "## FREQUENCY\n",
    "以一列垂直数组返回某个区域中数据的频率分布。  \n",
    "FREQUENCY(data_array,bins_array)  \n",
    "Data_array表示用来计算频率的一组数据或单元格区域;Bins_array表示为前面数组进行分隔一列数值。"
   ]
  },
  {
   "cell_type": "code",
   "execution_count": null,
   "metadata": {
    "collapsed": true
   },
   "outputs": [],
   "source": []
  }
 ],
 "metadata": {
  "kernelspec": {
   "display_name": "Python [default]",
   "language": "python",
   "name": "python3"
  },
  "language_info": {
   "codemirror_mode": {
    "name": "ipython",
    "version": 3
   },
   "file_extension": ".py",
   "mimetype": "text/x-python",
   "name": "python",
   "nbconvert_exporter": "python",
   "pygments_lexer": "ipython3",
   "version": "3.6.3"
  }
 },
 "nbformat": 4,
 "nbformat_minor": 2
}
