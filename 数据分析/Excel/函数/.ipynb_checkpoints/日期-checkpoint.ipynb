{
 "cells": [
  {
   "cell_type": "markdown",
   "metadata": {
    "collapsed": true
   },
   "source": [
    "## DAY\n",
    "求出指定日期或引用单元格中的日期的天数  \n",
    "                                                            DAY(serial_number)，serial_number代表指定的日期或引用的单元格  \n",
    "如果是给定的日期，请包含在英文双引号中"
   ]
  },
  {
   "cell_type": "markdown",
   "metadata": {
    "collapsed": true
   },
   "source": [
    "## TODAY\n",
    "给出系统日期。  \n",
    "TODAY()"
   ]
  },
  {
   "cell_type": "markdown",
   "metadata": {},
   "source": [
    "## NOW\n",
    "给出当前系统日期和时间。\n",
    "\n",
    "NOW()"
   ]
  },
  {
   "cell_type": "markdown",
   "metadata": {
    "collapsed": true
   },
   "source": [
    "## WEEKDAY\n",
    "给出指定日期的对应的星期数。  \n",
    "WEEKDAY(serial_number,return_type)  \n",
    "serial_number代表指定的日期或引用含有日期的单元格;return_type代表星期的表示方式[当Sunday(星期日)为 1、Saturday(星期六)为7时，该参数为1;当Monday(星期一)为1、Sunday(星期日)为7时，该参数为2(这种情况符合中国人的习惯);当Monday(星期一)为0、Sunday(星期日)为6时，该参数为3。"
   ]
  },
  {
   "cell_type": "markdown",
   "metadata": {},
   "source": [
    "## MONTH\n",
    "求出指定日期或引用单元格中的日期的月份。\n",
    "\n",
    "MONTH(serial_number)serial_number代表指定的日期或引用的单元格。"
   ]
  },
  {
   "cell_type": "markdown",
   "metadata": {
    "collapsed": true
   },
   "source": [
    "## DATE\n",
    "给出指定数值的日期  \n",
    "DATE(year,month,day)"
   ]
  },
  {
   "cell_type": "markdown",
   "metadata": {
    "collapsed": true
   },
   "source": [
    "## DATEIF\n",
    "计算返回两个日期参数的差值  \n",
    "DATEDIF(开始日期,结束日期,返回参数)，返回参数有Y、M、D、YM、YD、MD  \n",
    "YM（YD,MD）计算除了周年以外剩余的足月"
   ]
  },
  {
   "cell_type": "markdown",
   "metadata": {
    "collapsed": true
   },
   "source": [
    "#### 设置员工生日提醒  \n",
    "=TEXT(10-DATEDIF(C4-10,TODAY(),\"yd\"),\"还有0天生日;;今天生日\")  \n",
    "=DATEDIF(出生日期-10,TODAY(),\"yd\"）该公式返回的结果是2，也就是说这两个日期实际差了10-2=8天"
   ]
  },
  {
   "cell_type": "code",
   "execution_count": null,
   "metadata": {
    "collapsed": true
   },
   "outputs": [],
   "source": [
    "精确结果：{=TEXT(IFERROR(MATCH(TEXT(C2,\"mmdd\"),TEXT(NOW()+ROW($1:$11)-1,\"mmdd\"),)-1,-1),\"还有0天生日;;今天生日\")}  \n",
    "先构造从今天开始连续的10个日期所组成的一个数组，然后用MATCH函数在这个数组中查找B2单元格的生日日期是否存在"
   ]
  }
 ],
 "metadata": {
  "kernelspec": {
   "display_name": "Python [default]",
   "language": "python",
   "name": "python3"
  },
  "language_info": {
   "codemirror_mode": {
    "name": "ipython",
    "version": 3
   },
   "file_extension": ".py",
   "mimetype": "text/x-python",
   "name": "python",
   "nbconvert_exporter": "python",
   "pygments_lexer": "ipython3",
   "version": "3.6.3"
  }
 },
 "nbformat": 4,
 "nbformat_minor": 2
}
