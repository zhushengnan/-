{
 "cells": [
  {
   "cell_type": "markdown",
   "metadata": {},
   "source": [
    "1、多条件判断公式\n",
    "\n",
    "=IF(AND(条件1,条件2...条件n),同时满足条件返回的值,不满足条件返回的值)\n",
    "=IF(OR(条件1,条件2...条件n),同时满足任一条件返回的值,不满足条件返回的值)\n",
    "\n",
    "示例：同时满足金额小于500且B列内容为“未到期\"时在C列输入”补款“\n",
    "\n",
    "=IF(AND(A2<500,B2=\"未到期\"),\"补款\",\"\")\n",
    "\n"
   ]
  },
  {
   "cell_type": "code",
   "execution_count": null,
   "metadata": {
    "collapsed": true
   },
   "outputs": [],
   "source": []
  }
 ],
 "metadata": {
  "kernelspec": {
   "display_name": "Python [default]",
   "language": "python",
   "name": "python3"
  },
  "language_info": {
   "codemirror_mode": {
    "name": "ipython",
    "version": 3
   },
   "file_extension": ".py",
   "mimetype": "text/x-python",
   "name": "python",
   "nbconvert_exporter": "python",
   "pygments_lexer": "ipython3",
   "version": "3.6.3"
  }
 },
 "nbformat": 4,
 "nbformat_minor": 2
}
