{
 "cells": [
  {
   "cell_type": "markdown",
   "metadata": {},
   "source": [
    "## IF\n",
    "根据对指定条件的逻辑判断的真假结果，返回相对应的内容。  \n",
    "\n",
    "=IF(Logical,Value_if_true,Value_if_false)  \n",
    "\n",
    "Logical代表逻辑判断表达式;Value_if_true表示当判断条件为逻辑“真(TRUE)”时的显示内容，如果忽略返回 “TRUE”;Value_if_false表示当判断条件为逻辑“假(FALSE)”时的显示内容，如果忽略返回“FALSE”。"
   ]
  },
  {
   "cell_type": "markdown",
   "metadata": {},
   "source": [
    "## AND\n",
    "返回逻辑值：如果所有参数值均为逻辑“真(TRUE)”，则返回逻辑“真(TRUE)”，反之返回逻辑“假(FALSE)”。  \n",
    "AND(logical1,logical2, ...)logical表示待测试的条件值或表达式  \n",
    "如果指定的逻辑条件参数中包含非逻辑值时，则函数返回错误值“#VALUE!”或“#NAME”。"
   ]
  },
  {
   "cell_type": "markdown",
   "metadata": {},
   "source": [
    "## OR\n",
    "返回逻辑值，仅当所有参数值均为逻辑“假(FALSE)”时返回函数结果逻辑“假(FALSE)”，否则都返回逻辑“真(TRUE)”。\n",
    "\n",
    "OR(logical1,logical2, ...)"
   ]
  },
  {
   "cell_type": "markdown",
   "metadata": {},
   "source": [
    "## NOT"
   ]
  },
  {
   "cell_type": "markdown",
   "metadata": {},
   "source": [
    "## ISERROR\n",
    "用于测试函数式返回的数值是否有错。如果有错，该函数返回TRUE，反之返回FALSE。  \n",
    "ISERROR(value)Value表示需要测试的值或表达式。"
   ]
  },
  {
   "cell_type": "markdown",
   "metadata": {},
   "source": [
    "1、多条件判断公式\n",
    "\n",
    "=IF(AND(条件1,条件2...条件n),同时满足条件返回的值,不满足条件返回的值)\n",
    "=IF(OR(条件1,条件2...条件n),同时满足任一条件返回的值,不满足条件返回的值)\n",
    "\n",
    "示例：同时满足金额小于500且B列内容为“未到期\"时在C列输入”补款“\n",
    "\n",
    "=IF(AND(A2<500,B2=\"未到期\"),\"补款\",\"\")\n",
    "\n"
   ]
  },
  {
   "cell_type": "markdown",
   "metadata": {
    "collapsed": true
   },
   "source": [
    "if（{1,0}，）"
   ]
  }
 ],
 "metadata": {
  "kernelspec": {
   "display_name": "Python [default]",
   "language": "python",
   "name": "python3"
  },
  "language_info": {
   "codemirror_mode": {
    "name": "ipython",
    "version": 3
   },
   "file_extension": ".py",
   "mimetype": "text/x-python",
   "name": "python",
   "nbconvert_exporter": "python",
   "pygments_lexer": "ipython3",
   "version": "3.6.3"
  }
 },
 "nbformat": 4,
 "nbformat_minor": 2
}
