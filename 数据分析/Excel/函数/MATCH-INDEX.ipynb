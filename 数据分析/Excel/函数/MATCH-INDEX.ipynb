{
 "cells": [
  {
   "cell_type": "markdown",
   "metadata": {
    "collapsed": true
   },
   "source": [
    "## MATCH\n",
    "返回在指定方式下与指定数值匹配的数组中元素的相应位置。  \n",
    "\n",
    "MATCH(lookup_value,lookup_array,match_type)  \n",
    "\n",
    "Lookup_value代表需要在数据表中查找的数值;  Lookup_array表示可能包含所要查找的数值的连续单元格区域;  Match_type表示查找方式的值(-1、0或1)。  \n",
    "\n",
    "如果match_type为-1，查找大于或等于 lookup_value的最小数值，Lookup_array 必须按降序排列;  \n",
    "\n",
    "如果match_type为1，查找小于或等于 lookup_value 的最大数值，Lookup_array 必须按升序排列;  \n",
    "\n",
    "如果match_type为0，查找等于lookup_value 的第一个数值，Lookup_array 可以按任何顺序排列;如果省略match_type，则默认为1。"
   ]
  },
  {
   "cell_type": "markdown",
   "metadata": {
    "collapsed": true
   },
   "source": [
    "## INDEX\n",
    "返回列表或数组中的元素值，此元素由行序号和列序号的索引值进行确定。  \n",
    "INDEX(array,row_num,column_num)  \n",
    "Array代表单元格区域或数组常量;Row_num表示指定的行序号(如果省略row_num，则必须有 column_num);Column_num表示指定的列序号(如果省略column_num，则必须有 row_num)。"
   ]
  },
  {
   "cell_type": "markdown",
   "metadata": {
    "collapsed": true
   },
   "source": [
    "## MATCH+INDEX"
   ]
  },
  {
   "cell_type": "markdown",
   "metadata": {},
   "source": [
    "## COLUMN\n",
    "显示所引用单元格的列标号值。  \n",
    "COLUMN(reference)"
   ]
  },
  {
   "cell_type": "markdown",
   "metadata": {},
   "source": [
    "## ROW\n",
    "显示所引用单元格的行标号值。  \n",
    "ROW(reference)"
   ]
  },
  {
   "cell_type": "code",
   "execution_count": null,
   "metadata": {
    "collapsed": true
   },
   "outputs": [],
   "source": []
  }
 ],
 "metadata": {
  "kernelspec": {
   "display_name": "Python [default]",
   "language": "python",
   "name": "python3"
  },
  "language_info": {
   "codemirror_mode": {
    "name": "ipython",
    "version": 3
   },
   "file_extension": ".py",
   "mimetype": "text/x-python",
   "name": "python",
   "nbconvert_exporter": "python",
   "pygments_lexer": "ipython3",
   "version": "3.6.3"
  }
 },
 "nbformat": 4,
 "nbformat_minor": 2
}
