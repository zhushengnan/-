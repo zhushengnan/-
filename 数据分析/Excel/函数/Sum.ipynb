{
 "cells": [
  {
   "cell_type": "markdown",
   "metadata": {},
   "source": [
    "### sum"
   ]
  },
  {
   "cell_type": "markdown",
   "metadata": {},
   "source": [
    "\n",
    "10、多表同一位置汇总公式\n",
    "\n",
    "=Sum(工作表1:工作表N!单元格地址)\n",
    "\n",
    "示例:  如下图所示，要求在汇总表里设置合计公式，汇总前19个工作表B列的和。\n",
    "B2 =SUM(Sheet1:Sheet19!B2)\n"
   ]
  },
  {
   "cell_type": "markdown",
   "metadata": {},
   "source": [
    "### sumif"
   ]
  },
  {
   "cell_type": "markdown",
   "metadata": {},
   "source": [
    "### sumifs"
   ]
  },
  {
   "cell_type": "markdown",
   "metadata": {},
   "source": [
    "### sumproduct"
   ]
  },
  {
   "cell_type": "markdown",
   "metadata": {},
   "source": [
    "1、多条件求和、计数公式\n",
    "\n",
    "Sumproduct(条件1*条件2*条件3...数据区域)\n",
    "\n",
    "示例：统计A产品3月的销售合计\n",
    "=SUMPRODUCT((MONTH(A3:A9)=3) * (B3:B9=\"A\") * C3:C9)\n",
    "注:和sumifs相比速度虽然慢了点，但Sumproduct可以对数组进行处理后再设置条件，同时也可以对文本型数字进行计算，而Sumifs函数则不可。\n",
    "\n",
    "\n",
    "\n",
    "2、计算不重复值个数的公式\n",
    "\n",
    "=SUMPRODUCT(1/COUNTIF(区域,区域))\n",
    "\n",
    "示例：统计B列的客户数量\n",
    "=SUMPRODUCT(1/COUNTIF(B2:B19,B2:B19))\n"
   ]
  },
  {
   "cell_type": "code",
   "execution_count": null,
   "metadata": {
    "collapsed": true
   },
   "outputs": [],
   "source": []
  }
 ],
 "metadata": {
  "kernelspec": {
   "display_name": "Python [default]",
   "language": "python",
   "name": "python3"
  },
  "language_info": {
   "codemirror_mode": {
    "name": "ipython",
    "version": 3
   },
   "file_extension": ".py",
   "mimetype": "text/x-python",
   "name": "python",
   "nbconvert_exporter": "python",
   "pygments_lexer": "ipython3",
   "version": "3.6.3"
  }
 },
 "nbformat": 4,
 "nbformat_minor": 2
}
