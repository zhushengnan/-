{
 "cells": [
  {
   "cell_type": "markdown",
   "metadata": {},
   "source": [
    "## COUNT"
   ]
  },
  {
   "cell_type": "markdown",
   "metadata": {},
   "source": [
    "## COUNTIF\n",
    "统计某个单元格区域中符合指定条件的单元格数目  \n",
    "COUNTIF(Range,Criteria)，Range代表要统计的单元格区域;Criteria表示指定的条件表达式。"
   ]
  },
  {
   "cell_type": "markdown",
   "metadata": {},
   "source": [
    "\n",
    "\n",
    "1、返回包含值12的单元格数量\n",
    "=COUNTIF(A:A,12)\n",
    "\n",
    "2、返回包含负值的单元格数量\n",
    "=COUNTIF(A:A,\"<0\")\n",
    "\n",
    "3、返回不等于0的单元格数量\n",
    "=COUNTIF(A:A,\"<>0\")\n",
    "\n",
    "4、返回大于5的单元格数量\n",
    "=COUNTIF(A:A,\">5\")\n",
    "\n",
    "5、返回等于单元格B1中内容的单元格数量\n",
    "=COUNTIF(A:A,B1)\n",
    "\n",
    "6、返回大于单元格B1中内容的单元格数量\n",
    "=COUNTIF(A:A,\">\"&B1)\n",
    "\n",
    "7、返回包含文本内容的单元格数量\n",
    "=COUNTIF(A:A,\"*\")\n",
    "\n",
    "8、返回包含三个字符内容的单元格数量\n",
    "=COUNTIF(A:A,\"???\")\n",
    "\n",
    "9、返回内容为单词“GOOD”（不区分大小写）的单元格数量\n",
    "=COUNTIF(A:A,\"GOOD\")\n",
    "\n",
    "10、返回在文本中任何位置包含单词“GOOD”（不区分大小写）的单元格数量\n",
    "=COUNTIF(A:A,\"\\*GOOD*\")\n",
    "\n",
    "11、返回内容以单词“AB”（不区分大小写）开头的单元格数量\n",
    "=COUNTIF(A:A,\"AB*\")\n",
    "\n",
    "12、返回包含当前日期的单元格数量\n",
    "=COUNTIF(A:A,TODAY())\n",
    "\n",
    "13、返回大于平均值的单元格数量\n",
    "=COUNTIF(A:A,\">\"&AVERAGE(A:A))\n",
    "\n",
    "14、返回不等于空值和错误值的单元格数量\n",
    "=COUNTIF(A:A,\"<>\")\n",
    "\n",
    "15、返回包含值为3或-3的单元格数量\n",
    "=SUM(COUNTIF(A:A,{3,-3}))\n",
    "\n",
    "16、返回包含逻辑值为TRUE的单元格数量\n",
    "=COUNTIF(A:A,TRUE)\n"
   ]
  },
  {
   "cell_type": "code",
   "execution_count": null,
   "metadata": {
    "collapsed": true
   },
   "outputs": [],
   "source": []
  },
  {
   "cell_type": "markdown",
   "metadata": {},
   "source": [
    "## COUNTIFS"
   ]
  },
  {
   "cell_type": "markdown",
   "metadata": {},
   "source": [
    "## DCOUNT\n",
    "返回数据库或列表的列中满足指定条件并且包含数字的单元格数目\n",
    "DCOUNT(database,field,criteria)  \n",
    "Database表示需要统计的单元格区域;Field表示函数所使用的数据列(在第一行必须要有标志项);Criteria包含条件的单元格区域。"
   ]
  },
  {
   "cell_type": "code",
   "execution_count": null,
   "metadata": {
    "collapsed": true
   },
   "outputs": [],
   "source": []
  }
 ],
 "metadata": {
  "kernelspec": {
   "display_name": "Python [default]",
   "language": "python",
   "name": "python3"
  },
  "language_info": {
   "codemirror_mode": {
    "name": "ipython",
    "version": 3
   },
   "file_extension": ".py",
   "mimetype": "text/x-python",
   "name": "python",
   "nbconvert_exporter": "python",
   "pygments_lexer": "ipython3",
   "version": "3.6.3"
  }
 },
 "nbformat": 4,
 "nbformat_minor": 2
}
